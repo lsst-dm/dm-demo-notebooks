{
 "cells": [
  {
   "cell_type": "markdown",
   "metadata": {},
   "source": [
    "# Gen3 Butler Basics"
   ]
  },
  {
   "cell_type": "markdown",
   "metadata": {},
   "source": [
    "## Environment setup\n",
    "\n",
    "This tutorial runs against a built copy of the [ci_hsc_gen3](https://github.com/lsst/ci_hsc_gen3) package, but it should run with only minor changes to collection names and data ID values in any Gen3 repo containing DRP pipeline outputs.  This version of the notebook was written against stack release `w_2020_29`.  Some of the APIs used near the end are expected to change soon, but only slightly, and a new version of the notebook will be released then."
   ]
  },
  {
   "cell_type": "code",
   "execution_count": 1,
   "metadata": {},
   "outputs": [],
   "source": [
    "import os\n",
    "REPO_ROOT = \"/home/jbosch/LSST/src/ci_hsc_gen3/DATA\""
   ]
  },
  {
   "cell_type": "markdown",
   "metadata": {},
   "source": [
    "## Data Repositories and Collections\n",
    "\n",
    "As in Gen2, you initialize a `Butler` by pointing at a data repository, which is usually represented by a directory.\n",
    "\n",
    "That is _mostly_ true in Gen3 as well:"
   ]
  },
  {
   "cell_type": "code",
   "execution_count": 2,
   "metadata": {},
   "outputs": [],
   "source": [
    "from lsst.daf.butler import Butler\n",
    "butler = Butler(REPO_ROOT)"
   ]
  },
  {
   "cell_type": "markdown",
   "metadata": {},
   "source": [
    "By default, Gen3 repository roots will have a `butler.yaml` and a `gen3.sqlite3` file.  A reasonable first thing to do when looking at a repository is to examine its _collections_, which are groups of datasets that frequently (but not always) correspond to processing runs."
   ]
  },
  {
   "cell_type": "code",
   "execution_count": 3,
   "metadata": {},
   "outputs": [
    {
     "output_type": "execute_result",
     "data": {
      "text/plain": "['HSC/calib',\n 'skymaps',\n 'HSC/raw/all',\n 'shared/ci_hsc',\n 'HSC/masks',\n 'ref_cats',\n 'shared/ci_hsc_output/20200720T22h54m33s',\n 'shared/ci_hsc_output']"
     },
     "metadata": {},
     "execution_count": 3
    }
   ],
   "source": [
    "list(butler.registry.queryCollections())"
   ]
  },
  {
   "cell_type": "markdown",
   "metadata": {},
   "source": [
    "Note that we wrapped the result in `list(...)` - that's because most butler query operations return lazy iterators of some kind\n",
    "\n",
    "In fact, normally we'd construct a `Butler` instance with the name of one or more collections to read from as well as the repo root.  That's because a Gen3 data repository is actually more like a set of related Gen2 data repositories (_e.g._ `/datasets/hsc/repo` and all of the data repositories that (recursively) consider it a parent.  A Gen3 `collection` is like a specific Gen2 data repository, and while some collections may also be associated with subdirectories, that's not true in general.\n",
    "\n",
    "The `shared/ci_hsc_output` collection is the one that holds the results of building ci_hsc_gen3 (and hence running a bunch of `PipelineTask`s, so we'll reconstruct a butler with that."
   ]
  },
  {
   "cell_type": "code",
   "execution_count": 4,
   "metadata": {},
   "outputs": [],
   "source": [
    "butler = Butler(REPO_ROOT, collections=\"shared/ci_hsc_output\")"
   ]
  },
  {
   "cell_type": "markdown",
   "metadata": {},
   "source": [
    "Note that we can pass either a single string or a sequence of strings as the collections argument.  In most places where a sequence of collections is expected, you can pass a large number of things.  See [Collection Expressions](https://pipelines.lsst.io/v/weekly/modules/lsst.daf.butler/queries.html#collection-expressions) for more information.  In fact, [`Registry.queryCollections`](https://pipelines.lsst.io/v/weekly/py-api/lsst.daf.butler.Registry.html#lsst.daf.butler.Registry.queryCollections) is one such place:"
   ]
  },
  {
   "cell_type": "code",
   "execution_count": 5,
   "metadata": {},
   "outputs": [
    {
     "output_type": "execute_result",
     "data": {
      "text/plain": "['HSC/calib', 'HSC/raw/all', 'HSC/masks']"
     },
     "metadata": {},
     "execution_count": 5
    }
   ],
   "source": [
    "import re\n",
    "list(butler.registry.queryCollections(re.compile(\"HSC\\/.*\")))"
   ]
  },
  {
   "cell_type": "markdown",
   "metadata": {},
   "source": [
    "It's worth pointing out the `collections` argument to the `Butler` constructor is used for direct `Butler` methods, but isn't used by any methods on the `butler.registry` attribute that we've been using so far.  The next section explains why."
   ]
  },
  {
   "cell_type": "markdown",
   "metadata": {},
   "source": [
    "## Registry and Datastore"
   ]
  },
  {
   "cell_type": "markdown",
   "metadata": {},
   "source": [
    "The last call was actually on `butler.registry`, not just `butler`, and that'll be a relatively common occurrence in Gen3, because a `Butler` is really just a convenience wrapper that combines three things:\n",
    "\n",
    "* a `Registry` instance that manages metadata and relationships between datasets via a SQL database (a `gen3.sqlite3` file in the repo root, in this case);\n",
    "* a `Datastore` instance that manages the datasets themselves (files subdirectories of the repo root, in this case);\n",
    "* the name(s) of one or more collections.\n",
    "\n",
    "You'll frequently use `butler.registry` to perform operations that don't need anything from the `Datastore`.\n",
    "\n",
    "A `butler.datastore` attribute exists as well, but it's much less likely that you'll need to use it directly (I can't think of a reason).\n",
    "\n",
    "Neither the `Registry` nor the `Datastore` know about the `collection` you passed when constructing the `Butler`, so when using them directly you many need to pass `butler.collections` to them (if they take a `collections` argument)."
   ]
  },
  {
   "cell_type": "markdown",
   "metadata": {},
   "source": [
    "## How to spell `get`"
   ]
  },
  {
   "cell_type": "markdown",
   "metadata": {},
   "source": [
    "The most common thing you'll do with a `Butler` is call `get` (`PipelineTasks` call `put` just about as often, but usually the author of a concrete `PipelineTask` won't actually write any `get` and `put` calls).  In it's simplest form, that looks something like this:"
   ]
  },
  {
   "cell_type": "code",
   "execution_count": 6,
   "metadata": {},
   "outputs": [],
   "source": [
    "dataId = {\"skymap\": \"discrete/ci_hsc\", \"tract\": 0, \"patch\": 69, \"abstract_filter\": \"r\"}\n",
    "coadd = butler.get(\"deepCoadd\", dataId=dataId)"
   ]
  },
  {
   "cell_type": "markdown",
   "metadata": {},
   "source": [
    "There's a lot to unpack here, but let's start by making it clear that you can write this a few different ways, and they're all equivalent (and most of them are identical to Gen2, aside from what's in the data ID):"
   ]
  },
  {
   "cell_type": "code",
   "execution_count": 7,
   "metadata": {},
   "outputs": [],
   "source": [
    "# Pass data ID as a positional argument:\n",
    "coadd = butler.get(\"deepCoadd\", dataId)"
   ]
  },
  {
   "cell_type": "code",
   "execution_count": 8,
   "metadata": {},
   "outputs": [],
   "source": [
    "# Pass data ID as multiple keyword arguments:\n",
    "coadd = butler.get(\"deepCoadd\", skymap=\"discrete/ci_hsc\", tract=0, patch=69, abstract_filter=\"r\")"
   ]
  },
  {
   "cell_type": "code",
   "execution_count": 9,
   "metadata": {},
   "outputs": [],
   "source": [
    "# Do both.  Keyword arguments override the data ID dict (considered a feature, though it may be suprising).\n",
    "coadd = butler.get(\"deepCoadd\", dataId, patch=69, abstract_filter=\"r\")"
   ]
  },
  {
   "cell_type": "markdown",
   "metadata": {},
   "source": [
    "### DatasetTypes\n",
    "\n",
    "The first argument can also be a `DatasetType` object instead of the string that refers to one.  A `DatasetType` instance knows the data ID keys needed to identify it (we call those \"dimensions\") and its StorageClass, which you can think of as a mapping to the Python type you'll get back:"
   ]
  },
  {
   "cell_type": "code",
   "execution_count": 10,
   "metadata": {
    "tags": []
   },
   "outputs": [
    {
     "output_type": "stream",
     "name": "stdout",
     "text": "DatasetType(deepCoadd, {abstract_filter, skymap, tract, patch}, ExposureF)\n"
    }
   ],
   "source": [
    "deepCoaddType = butler.registry.getDatasetType(\"deepCoadd\")\n",
    "print(deepCoaddType)"
   ]
  },
  {
   "cell_type": "markdown",
   "metadata": {},
   "source": [
    "In the Gen2 butler, all dataset types had to be pre-declared in an obs_ package.  In Gen3, they're added to the data repository as needed by the `PipelineTasks` that create them, so if you want to know what dataset types exist, you'll need to ask the registry (someday we'll hopefully find some way to put a snapshot of a \"typical\" registry's dataset types in the online documentation):"
   ]
  },
  {
   "cell_type": "code",
   "execution_count": 12,
   "metadata": {},
   "outputs": [
    {
     "output_type": "execute_result",
     "data": {
      "text/plain": "[DatasetType(camera, {instrument, calibration_label}, Camera),\n DatasetType(defects, {instrument, calibration_label, detector}, Defects),\n DatasetType(bfKernel, {instrument, calibration_label}, NumpyArray),\n DatasetType(transmission_optics, {instrument, calibration_label}, TransmissionCurve),\n DatasetType(transmission_sensor, {instrument, calibration_label, detector}, TransmissionCurve),\n DatasetType(transmission_filter, {abstract_filter, instrument, calibration_label, physical_filter}, TransmissionCurve),\n DatasetType(transmission_atmosphere, {instrument}, TransmissionCurve),\n DatasetType(deepCoadd_skyMap, {skymap}, SkyMap),\n DatasetType(raw, {abstract_filter, instrument, detector, physical_filter, exposure}, Exposure),\n DatasetType(brightObjectMask, {abstract_filter, skymap, tract, patch}, ObjectMaskCatalog),\n DatasetType(ps1_pv3_3pi_20170110, {htm7}, SimpleCatalog),\n DatasetType(jointcal_photoCalib, {abstract_filter, instrument, skymap, detector, physical_filter, tract, visit_system, visit}, PhotoCalib),\n DatasetType(jointcal_wcs, {abstract_filter, instrument, skymap, detector, physical_filter, tract, visit_system, visit}, Wcs),\n DatasetType(bias, {instrument, calibration_label, detector}, ExposureF),\n DatasetType(dark, {instrument, calibration_label, detector}, ExposureF),\n DatasetType(flat, {abstract_filter, instrument, calibration_label, detector, physical_filter}, ExposureF),\n DatasetType(sky, {abstract_filter, instrument, calibration_label, detector, physical_filter}, ExposureF),\n DatasetType(icSrc_schema, {}, SourceCatalog),\n DatasetType(deepCoadd_det_schema, {}, SourceCatalog),\n DatasetType(deepCoadd_mergeDet_schema, {}, SourceCatalog),\n DatasetType(deepCoadd_peak_schema, {}, PeakCatalog),\n DatasetType(deepCoadd_deblendedFlux_schema, {}, SourceCatalog),\n DatasetType(deepCoadd_meas_schema, {}, SourceCatalog),\n DatasetType(deepCoadd_ref_schema, {}, SourceCatalog),\n DatasetType(src_schema, {}, SourceCatalog),\n DatasetType(forced_src_schema, {}, SourceCatalog),\n DatasetType(deepCoadd_forced_src_schema, {}, SourceCatalog),\n DatasetType(postISRCCD, {abstract_filter, instrument, detector, physical_filter, exposure}, Exposure),\n DatasetType(icExpBackground, {abstract_filter, instrument, detector, physical_filter, visit_system, visit}, Background),\n DatasetType(icExp, {abstract_filter, instrument, detector, physical_filter, visit_system, visit}, ExposureF),\n DatasetType(icSrc, {abstract_filter, instrument, detector, physical_filter, visit_system, visit}, SourceCatalog),\n DatasetType(src, {abstract_filter, instrument, detector, physical_filter, visit_system, visit}, SourceCatalog),\n DatasetType(calexp, {abstract_filter, instrument, detector, physical_filter, visit_system, visit}, ExposureF),\n DatasetType(deepCoadd_directWarp, {abstract_filter, instrument, skymap, physical_filter, tract, visit_system, patch, visit}, ExposureF),\n DatasetType(deepCoadd_psfMatchedWarp, {abstract_filter, instrument, skymap, physical_filter, tract, visit_system, patch, visit}, ExposureF),\n DatasetType(deepCoadd, {abstract_filter, skymap, tract, patch}, ExposureF),\n DatasetType(deepCoadd_calexp, {abstract_filter, skymap, tract, patch}, ExposureF),\n DatasetType(deepCoadd_det, {abstract_filter, skymap, tract, patch}, SourceCatalog),\n DatasetType(deepCoadd_mergeDet, {skymap, tract, patch}, SourceCatalog),\n DatasetType(deepCoadd_deblendedFlux, {abstract_filter, skymap, tract, patch}, SourceCatalog),\n DatasetType(deepCoadd_meas, {abstract_filter, skymap, tract, patch}, SourceCatalog),\n DatasetType(deepCoadd_ref, {skymap, tract, patch}, SourceCatalog),\n DatasetType(isr_metadata, {abstract_filter, instrument, detector, physical_filter, exposure}, PropertyList),\n DatasetType(charImage_metadata, {abstract_filter, instrument, detector, physical_filter, visit_system, visit}, PropertyList),\n DatasetType(calexpBackground, {abstract_filter, instrument, detector, physical_filter, visit_system, visit}, Background),\n DatasetType(srcMatch, {abstract_filter, instrument, detector, physical_filter, visit_system, visit}, Catalog),\n DatasetType(srcMatchFull, {abstract_filter, instrument, detector, physical_filter, visit_system, visit}, Catalog),\n DatasetType(calibrate_metadata, {abstract_filter, instrument, detector, physical_filter, visit_system, visit}, PropertyList),\n DatasetType(makeWarpTask_metadata, {abstract_filter, instrument, skymap, physical_filter, tract, visit_system, patch, visit}, PropertyList),\n DatasetType(deepCoadd_nImage, {abstract_filter, skymap, tract, patch}, ImageU),\n DatasetType(assembleCoadd_metadata, {abstract_filter, skymap, tract, patch}, PropertyList),\n DatasetType(deepCoadd_calexp_background, {abstract_filter, skymap, tract, patch}, Background),\n DatasetType(detection_metadata, {abstract_filter, skymap, tract, patch}, PropertyList),\n DatasetType(mergeDetections_metadata, {skymap, tract, patch}, PropertyList),\n DatasetType(deblend_metadata, {abstract_filter, skymap, tract, patch}, PropertyList),\n DatasetType(deepCoadd_measMatchFull, {abstract_filter, skymap, tract, patch}, Catalog),\n DatasetType(deepCoadd_measMatch, {abstract_filter, skymap, tract, patch}, Catalog),\n DatasetType(measure_metadata, {abstract_filter, skymap, tract, patch}, PropertyList),\n DatasetType(mergeMeasurements_metadata, {skymap, tract, patch}, PropertyList),\n DatasetType(forced_src, {abstract_filter, instrument, skymap, detector, physical_filter, tract, visit_system, visit}, SourceCatalog),\n DatasetType(forcedPhotCcd_metadata, {abstract_filter, instrument, skymap, detector, physical_filter, tract, visit_system, visit}, PropertyList),\n DatasetType(deepCoadd_forced_src, {abstract_filter, skymap, tract, patch}, SourceCatalog),\n DatasetType(forcedPhotCoadd_metadata, {abstract_filter, skymap, tract, patch}, PropertyList),\n DatasetType(isr_config, {}, Config),\n DatasetType(charImage_config, {}, Config),\n DatasetType(calibrate_config, {}, Config),\n DatasetType(makeWarpTask_config, {}, Config),\n DatasetType(assembleCoadd_config, {}, Config),\n DatasetType(detection_config, {}, Config),\n DatasetType(mergeDetections_config, {}, Config),\n DatasetType(deblend_config, {}, Config),\n DatasetType(measure_config, {}, Config),\n DatasetType(mergeMeasurements_config, {}, Config),\n DatasetType(forcedPhotCcd_config, {}, Config),\n DatasetType(forcedPhotCoadd_config, {}, Config),\n DatasetType(packages, {}, Packages)]"
     },
     "metadata": {},
     "execution_count": 12
    }
   ],
   "source": [
    "list(butler.registry.queryDatasetTypes())"
   ]
  },
  {
   "cell_type": "markdown",
   "metadata": {},
   "source": [
    "Many of those `DatasetTypes` have implicit component dataset types, like `deepCoadd.psf`.  You can `get` components just as you would their parents, and usually that'll be much more efficient if the component is a small piece of the whole:"
   ]
  },
  {
   "cell_type": "code",
   "execution_count": 13,
   "metadata": {
    "tags": []
   },
   "outputs": [
    {
     "output_type": "stream",
     "name": "stdout",
     "text": "id   bbox_min_x bbox_min_y bbox_max_x ... goodpix        weight       filter\n          pix        pix        pix     ...                                   \n------ ---------- ---------- ---------- ... -------- ------------------ ------\n903334      19900      15900      24099 ... 15363779 14.624842625965654  HSC-R\n903336      19900      15900      24099 ... 13501340  18.56591686749947  HSC-R\n903338      19900      15900      24099 ... 15847317  20.36656420365272  HSC-R\n903342      19900      15900      24099 ...  3865590 12.379389122444906  HSC-R\n903344      19900      15900      24099 ... 14143544 15.308676446785611  HSC-R\n903346      19900      15900      24099 ... 15345474  17.62140943168528  HSC-R\n"
    }
   ],
   "source": [
    "inputs = butler.get(\"deepCoadd.coaddInputs\", dataId)\n",
    "print(inputs.visits)"
   ]
  },
  {
   "cell_type": "markdown",
   "metadata": {},
   "source": [
    "Anyhow, as promised, you can use that `DatasetType` instance in `get`:"
   ]
  },
  {
   "cell_type": "code",
   "execution_count": 14,
   "metadata": {},
   "outputs": [],
   "source": [
    "coadd = butler.get(deepCoaddType, skymap=\"discrete/ci_hsc\", tract=0, patch=69, abstract_filter=\"r\")"
   ]
  },
  {
   "cell_type": "markdown",
   "metadata": {},
   "source": [
    "### DatasetRefs\n",
    "\n",
    "The Gen3 Butler makes use of the combination of a `DatasetType` and a data ID frequently enough that there is a special object for that, `DatasetRef`:"
   ]
  },
  {
   "cell_type": "code",
   "execution_count": 15,
   "metadata": {
    "tags": []
   },
   "outputs": [
    {
     "output_type": "stream",
     "name": "stdout",
     "text": "deepCoadd@{abstract_filter: r, skymap: discrete/ci_hsc, tract: 0, patch: 69}\n"
    }
   ],
   "source": [
    "from lsst.daf.butler import DatasetRef\n",
    "ref = DatasetRef(deepCoaddType, {\"skymap\": \"discrete/ci_hsc\", \"tract\": 0, \"patch\": 69, \"abstract_filter\": \"r\"})\n",
    "print(ref)"
   ]
  },
  {
   "cell_type": "markdown",
   "metadata": {},
   "source": [
    "You can pass a `DatasetRef` as the _only_ argument to `get`:"
   ]
  },
  {
   "cell_type": "code",
   "execution_count": 16,
   "metadata": {},
   "outputs": [],
   "source": [
    "coadd = butler.get(ref)"
   ]
  },
  {
   "cell_type": "markdown",
   "metadata": {},
   "source": [
    "If you're familiar with Gen2, you might have noticed that a Gen2 **DataRef** (which has a `Butler`) is _quite_ different from a Gen3 **DatasetRef** (which does not)."
   ]
  },
  {
   "cell_type": "markdown",
   "metadata": {},
   "source": [
    "### Parameters"
   ]
  },
  {
   "cell_type": "markdown",
   "metadata": {},
   "source": [
    "Component datasets are used to get predefined, differently-typed pieces of a composite dataset.  For some dataset types it's desirable to get same-typed, parameterized subsets, and that's what the `parameters` keyword argument to `get` is for.  The classic case is a subimage:"
   ]
  },
  {
   "cell_type": "code",
   "execution_count": 17,
   "metadata": {},
   "outputs": [],
   "source": [
    "from lsst.geom import Box2I, Point2I\n",
    "bbox = Box2I(Point2I(20000, 16000), Point2I(20200, 18000))\n",
    "parameters = {\"bbox\": bbox}\n",
    "subcoadd = butler.get(\"deepCoadd\", dataId, parameters=parameters)"
   ]
  },
  {
   "cell_type": "code",
   "execution_count": 18,
   "metadata": {},
   "outputs": [],
   "source": [
    "import numpy as np\n",
    "assert np.all(subcoadd.image.array == coadd[bbox].image.array)"
   ]
  },
  {
   "cell_type": "markdown",
   "metadata": {},
   "source": [
    "Unlike Gen2,\n",
    "\n",
    "- The dataset type name is the same (still just `deepCoadd`, not `deepCoadd_sub`, as it was in Gen2).\n",
    "\n",
    "- You pass all parameters as a single dict as the `parameters` kwarg, rather than as separate kwargs that could get confused with the data ID.]\n",
    "\n",
    "Any of the alternate spellings of `get` shown above can be used with parameters, including the `DatasetRef` one - the parameters go in the call to `get`, not inside the `DatasetRef`:"
   ]
  },
  {
   "cell_type": "code",
   "execution_count": 19,
   "metadata": {},
   "outputs": [],
   "source": [
    "subcoadd = butler.get(ref, parameters=parameters)"
   ]
  },
  {
   "cell_type": "markdown",
   "metadata": {},
   "source": [
    "## Querying for Datasets\n",
    "\n",
    "One of the most important new features of the Gen3 Butler is much more complete support for querying datasets.  That typically goes through the `queryDatasets` method.  A typical query might look something like this:"
   ]
  },
  {
   "cell_type": "code",
   "execution_count": 20,
   "metadata": {},
   "outputs": [
    {
     "output_type": "execute_result",
     "data": {
      "text/plain": "[DatasetRef(DatasetType(deepCoadd, {abstract_filter, skymap, tract, patch}, ExposureF), {abstract_filter: r, skymap: discrete/ci_hsc, tract: 0, patch: 69}, id=1630, run='shared/ci_hsc_output/20200720T22h54m33s'),\n DatasetRef(DatasetType(deepCoadd, {abstract_filter, skymap, tract, patch}, ExposureF), {abstract_filter: i, skymap: discrete/ci_hsc, tract: 0, patch: 69}, id=1633, run='shared/ci_hsc_output/20200720T22h54m33s')]"
     },
     "metadata": {},
     "execution_count": 20
    }
   ],
   "source": [
    "list(butler.registry.queryDatasets(\"deepCoadd\", collections=[\"shared/ci_hsc_output\"]))"
   ]
  },
  {
   "cell_type": "markdown",
   "metadata": {},
   "source": [
    "Once again, we've wrapped the call in `list` because `queryDatasets` returns a single-pass iterator, not a container.  **It's also not guaranteed to return unique results**, because it might be much more expensive to do some kinds of deduplication (especially for complex queries) in the database.  We'll have a way to explicitly ask for database-side deduplication (basically `SELECT DISTICT`) very soon, but you can also just put the results in a `set`."
   ]
  },
  {
   "cell_type": "markdown",
   "metadata": {},
   "source": [
    "You can also pass a single data ID, either as a single argument or (as with `get`) a number of keyword arguments:"
   ]
  },
  {
   "cell_type": "code",
   "execution_count": 24,
   "metadata": {},
   "outputs": [
    {
     "output_type": "execute_result",
     "data": {
      "text/plain": "[DatasetRef(DatasetType(deepCoadd, {abstract_filter, skymap, tract, patch}, ExposureF), {abstract_filter: r, skymap: discrete/ci_hsc, tract: 0, patch: 69}, id=1630, run='shared/ci_hsc_output/20200720T22h54m33s')]"
     },
     "metadata": {},
     "execution_count": 24
    }
   ],
   "source": [
    "list(butler.registry.queryDatasets(\"deepCoadd\", collections=[\"shared/ci_hsc_output\"],\n",
    "                                   dataId={\"abstract_filter\": \"r\"}, deduplicate=True))"
   ]
  },
  {
   "cell_type": "markdown",
   "metadata": {},
   "source": [
    "That data ID doesn't even have to be directly related to the dataset; `queryDatasets` will automatically use temporal or spatial overlaps if it needs to.  Here's a query for all of the calexps that overlap a patch:"
   ]
  },
  {
   "cell_type": "code",
   "execution_count": 25,
   "metadata": {},
   "outputs": [
    {
     "output_type": "execute_result",
     "data": {
      "text/plain": "{DatasetRef(DatasetType(calexp, {abstract_filter, instrument, detector, physical_filter, visit_system, visit}, ExposureF), {abstract_filter: i, instrument: HSC, detector: 1, physical_filter: HSC-I, visit_system: 0, visit: 904014}, id=1582, run='shared/ci_hsc_output/20200720T22h54m33s'),\n DatasetRef(DatasetType(calexp, {abstract_filter, instrument, detector, physical_filter, visit_system, visit}, ExposureF), {abstract_filter: i, instrument: HSC, detector: 10, physical_filter: HSC-I, visit_system: 0, visit: 904010}, id=1540, run='shared/ci_hsc_output/20200720T22h54m33s'),\n DatasetRef(DatasetType(calexp, {abstract_filter, instrument, detector, physical_filter, visit_system, visit}, ExposureF), {abstract_filter: i, instrument: HSC, detector: 100, physical_filter: HSC-I, visit_system: 0, visit: 903986}, id=1497, run='shared/ci_hsc_output/20200720T22h54m33s'),\n DatasetRef(DatasetType(calexp, {abstract_filter, instrument, detector, physical_filter, visit_system, visit}, ExposureF), {abstract_filter: i, instrument: HSC, detector: 100, physical_filter: HSC-I, visit_system: 0, visit: 904010}, id=1552, run='shared/ci_hsc_output/20200720T22h54m33s'),\n DatasetRef(DatasetType(calexp, {abstract_filter, instrument, detector, physical_filter, visit_system, visit}, ExposureF), {abstract_filter: i, instrument: HSC, detector: 12, physical_filter: HSC-I, visit_system: 0, visit: 904014}, id=1593, run='shared/ci_hsc_output/20200720T22h54m33s'),\n DatasetRef(DatasetType(calexp, {abstract_filter, instrument, detector, physical_filter, visit_system, visit}, ExposureF), {abstract_filter: i, instrument: HSC, detector: 16, physical_filter: HSC-I, visit_system: 0, visit: 903986}, id=1474, run='shared/ci_hsc_output/20200720T22h54m33s'),\n DatasetRef(DatasetType(calexp, {abstract_filter, instrument, detector, physical_filter, visit_system, visit}, ExposureF), {abstract_filter: i, instrument: HSC, detector: 16, physical_filter: HSC-I, visit_system: 0, visit: 903988}, id=1432, run='shared/ci_hsc_output/20200720T22h54m33s'),\n DatasetRef(DatasetType(calexp, {abstract_filter, instrument, detector, physical_filter, visit_system, visit}, ExposureF), {abstract_filter: i, instrument: HSC, detector: 17, physical_filter: HSC-I, visit_system: 0, visit: 903988}, id=1416, run='shared/ci_hsc_output/20200720T22h54m33s'),\n DatasetRef(DatasetType(calexp, {abstract_filter, instrument, detector, physical_filter, visit_system, visit}, ExposureF), {abstract_filter: i, instrument: HSC, detector: 18, physical_filter: HSC-I, visit_system: 0, visit: 903990}, id=1569, run='shared/ci_hsc_output/20200720T22h54m33s'),\n DatasetRef(DatasetType(calexp, {abstract_filter, instrument, detector, physical_filter, visit_system, visit}, ExposureF), {abstract_filter: i, instrument: HSC, detector: 22, physical_filter: HSC-I, visit_system: 0, visit: 903986}, id=1480, run='shared/ci_hsc_output/20200720T22h54m33s'),\n DatasetRef(DatasetType(calexp, {abstract_filter, instrument, detector, physical_filter, visit_system, visit}, ExposureF), {abstract_filter: i, instrument: HSC, detector: 23, physical_filter: HSC-I, visit_system: 0, visit: 903986}, id=1492, run='shared/ci_hsc_output/20200720T22h54m33s'),\n DatasetRef(DatasetType(calexp, {abstract_filter, instrument, detector, physical_filter, visit_system, visit}, ExposureF), {abstract_filter: i, instrument: HSC, detector: 23, physical_filter: HSC-I, visit_system: 0, visit: 903988}, id=1426, run='shared/ci_hsc_output/20200720T22h54m33s'),\n DatasetRef(DatasetType(calexp, {abstract_filter, instrument, detector, physical_filter, visit_system, visit}, ExposureF), {abstract_filter: i, instrument: HSC, detector: 24, physical_filter: HSC-I, visit_system: 0, visit: 903988}, id=1438, run='shared/ci_hsc_output/20200720T22h54m33s'),\n DatasetRef(DatasetType(calexp, {abstract_filter, instrument, detector, physical_filter, visit_system, visit}, ExposureF), {abstract_filter: i, instrument: HSC, detector: 25, physical_filter: HSC-I, visit_system: 0, visit: 903990}, id=1575, run='shared/ci_hsc_output/20200720T22h54m33s'),\n DatasetRef(DatasetType(calexp, {abstract_filter, instrument, detector, physical_filter, visit_system, visit}, ExposureF), {abstract_filter: i, instrument: HSC, detector: 4, physical_filter: HSC-I, visit_system: 0, visit: 904010}, id=1546, run='shared/ci_hsc_output/20200720T22h54m33s'),\n DatasetRef(DatasetType(calexp, {abstract_filter, instrument, detector, physical_filter, visit_system, visit}, ExposureF), {abstract_filter: i, instrument: HSC, detector: 6, physical_filter: HSC-I, visit_system: 0, visit: 904014}, id=1588, run='shared/ci_hsc_output/20200720T22h54m33s'),\n DatasetRef(DatasetType(calexp, {abstract_filter, instrument, detector, physical_filter, visit_system, visit}, ExposureF), {abstract_filter: r, instrument: HSC, detector: 0, physical_filter: HSC-R, visit_system: 0, visit: 903344}, id=1516, run='shared/ci_hsc_output/20200720T22h54m33s'),\n DatasetRef(DatasetType(calexp, {abstract_filter, instrument, detector, physical_filter, visit_system, visit}, ExposureF), {abstract_filter: r, instrument: HSC, detector: 1, physical_filter: HSC-R, visit_system: 0, visit: 903346}, id=1394, run='shared/ci_hsc_output/20200720T22h54m33s'),\n DatasetRef(DatasetType(calexp, {abstract_filter, instrument, detector, physical_filter, visit_system, visit}, ExposureF), {abstract_filter: r, instrument: HSC, detector: 10, physical_filter: HSC-R, visit_system: 0, visit: 903342}, id=1522, run='shared/ci_hsc_output/20200720T22h54m33s'),\n DatasetRef(DatasetType(calexp, {abstract_filter, instrument, detector, physical_filter, visit_system, visit}, ExposureF), {abstract_filter: r, instrument: HSC, detector: 100, physical_filter: HSC-R, visit_system: 0, visit: 903334}, id=1444, run='shared/ci_hsc_output/20200720T22h54m33s'),\n DatasetRef(DatasetType(calexp, {abstract_filter, instrument, detector, physical_filter, visit_system, visit}, ExposureF), {abstract_filter: r, instrument: HSC, detector: 100, physical_filter: HSC-R, visit_system: 0, visit: 903342}, id=1510, run='shared/ci_hsc_output/20200720T22h54m33s'),\n DatasetRef(DatasetType(calexp, {abstract_filter, instrument, detector, physical_filter, visit_system, visit}, ExposureF), {abstract_filter: r, instrument: HSC, detector: 11, physical_filter: HSC-R, visit_system: 0, visit: 903344}, id=1534, run='shared/ci_hsc_output/20200720T22h54m33s'),\n DatasetRef(DatasetType(calexp, {abstract_filter, instrument, detector, physical_filter, visit_system, visit}, ExposureF), {abstract_filter: r, instrument: HSC, detector: 12, physical_filter: HSC-R, visit_system: 0, visit: 903346}, id=1400, run='shared/ci_hsc_output/20200720T22h54m33s'),\n DatasetRef(DatasetType(calexp, {abstract_filter, instrument, detector, physical_filter, visit_system, visit}, ExposureF), {abstract_filter: r, instrument: HSC, detector: 16, physical_filter: HSC-R, visit_system: 0, visit: 903334}, id=1462, run='shared/ci_hsc_output/20200720T22h54m33s'),\n DatasetRef(DatasetType(calexp, {abstract_filter, instrument, detector, physical_filter, visit_system, visit}, ExposureF), {abstract_filter: r, instrument: HSC, detector: 17, physical_filter: HSC-R, visit_system: 0, visit: 903336}, id=1468, run='shared/ci_hsc_output/20200720T22h54m33s'),\n DatasetRef(DatasetType(calexp, {abstract_filter, instrument, detector, physical_filter, visit_system, visit}, ExposureF), {abstract_filter: r, instrument: HSC, detector: 18, physical_filter: HSC-R, visit_system: 0, visit: 903338}, id=1564, run='shared/ci_hsc_output/20200720T22h54m33s'),\n DatasetRef(DatasetType(calexp, {abstract_filter, instrument, detector, physical_filter, visit_system, visit}, ExposureF), {abstract_filter: r, instrument: HSC, detector: 22, physical_filter: HSC-R, visit_system: 0, visit: 903334}, id=1450, run='shared/ci_hsc_output/20200720T22h54m33s'),\n DatasetRef(DatasetType(calexp, {abstract_filter, instrument, detector, physical_filter, visit_system, visit}, ExposureF), {abstract_filter: r, instrument: HSC, detector: 23, physical_filter: HSC-R, visit_system: 0, visit: 903334}, id=1456, run='shared/ci_hsc_output/20200720T22h54m33s'),\n DatasetRef(DatasetType(calexp, {abstract_filter, instrument, detector, physical_filter, visit_system, visit}, ExposureF), {abstract_filter: r, instrument: HSC, detector: 24, physical_filter: HSC-R, visit_system: 0, visit: 903336}, id=1485, run='shared/ci_hsc_output/20200720T22h54m33s'),\n DatasetRef(DatasetType(calexp, {abstract_filter, instrument, detector, physical_filter, visit_system, visit}, ExposureF), {abstract_filter: r, instrument: HSC, detector: 25, physical_filter: HSC-R, visit_system: 0, visit: 903338}, id=1558, run='shared/ci_hsc_output/20200720T22h54m33s'),\n DatasetRef(DatasetType(calexp, {abstract_filter, instrument, detector, physical_filter, visit_system, visit}, ExposureF), {abstract_filter: r, instrument: HSC, detector: 4, physical_filter: HSC-R, visit_system: 0, visit: 903342}, id=1503, run='shared/ci_hsc_output/20200720T22h54m33s'),\n DatasetRef(DatasetType(calexp, {abstract_filter, instrument, detector, physical_filter, visit_system, visit}, ExposureF), {abstract_filter: r, instrument: HSC, detector: 5, physical_filter: HSC-R, visit_system: 0, visit: 903344}, id=1528, run='shared/ci_hsc_output/20200720T22h54m33s'),\n DatasetRef(DatasetType(calexp, {abstract_filter, instrument, detector, physical_filter, visit_system, visit}, ExposureF), {abstract_filter: r, instrument: HSC, detector: 6, physical_filter: HSC-R, visit_system: 0, visit: 903346}, id=1410, run='shared/ci_hsc_output/20200720T22h54m33s')}"
     },
     "metadata": {},
     "execution_count": 25
    }
   ],
   "source": [
    "set(butler.registry.queryDatasets(\"calexp\", collections=[\"shared/ci_hsc_output\"],\n",
    "                                   skymap=\"discrete/ci_hsc\", tract=0, patch=70))"
   ]
  },
  {
   "cell_type": "markdown",
   "metadata": {},
   "source": [
    "There's a big caveat to these spatial lookups, though: while they're guaranteed to return any dataset that overlaps the given data ID, they may also return some that don't, because the regions for observations are defined during ingest, and we pad those quite a bit to account for possibly-bad WCSs.  The above query actually returns all of the calexps in the (small) ci_hsc dataset, because there's so much padding, and what's worse, it returns some of them several times (remember that there's no guarantee about uniqueness).\n",
    "\n",
    "But, unlike Gen2, everything it returns actually does exist in the data repository."
   ]
  },
  {
   "cell_type": "markdown",
   "metadata": {},
   "source": [
    "So far, we've passed a single dataset type and a single collection.  You can also pass `...` for either argument to look for all dataset types and/or in all collections:"
   ]
  },
  {
   "cell_type": "code",
   "execution_count": null,
   "metadata": {},
   "outputs": [],
   "source": [
    "list(butler.registry.queryDatasets(..., collections=[\"ref_cats\"]))"
   ]
  },
  {
   "cell_type": "markdown",
   "metadata": {},
   "source": [
    "`re.Pattern` objects (what `re.compile` returns) are also accepted for either `collections` or `datasetType`, or both:"
   ]
  },
  {
   "cell_type": "code",
   "execution_count": 26,
   "metadata": {},
   "outputs": [
    {
     "output_type": "execute_result",
     "data": {
      "text/plain": "{DatasetType(deepCoadd.image, {abstract_filter, skymap, tract, patch}, ImageF, parentStorageClass=ExposureF),\n DatasetType(deepCoadd_calexp.image, {abstract_filter, skymap, tract, patch}, ImageF, parentStorageClass=ExposureF),\n DatasetType(deepCoadd_directWarp.image, {abstract_filter, instrument, skymap, physical_filter, tract, visit_system, patch, visit}, ImageF, parentStorageClass=ExposureF),\n DatasetType(deepCoadd_psfMatchedWarp.image, {abstract_filter, instrument, skymap, physical_filter, tract, visit_system, patch, visit}, ImageF, parentStorageClass=ExposureF)}"
     },
     "metadata": {},
     "execution_count": 26
    }
   ],
   "source": [
    "set(ref.datasetType for ref in butler.registry.queryDatasets(re.compile(\"deepCoadd.+image\"), collections=...))"
   ]
  },
  {
   "cell_type": "code",
   "execution_count": 27,
   "metadata": {
    "scrolled": true
   },
   "outputs": [
    {
     "output_type": "execute_result",
     "data": {
      "text/plain": "{DatasetType(bfKernel, {instrument, calibration_label}, NumpyArray),\n DatasetType(bias, {instrument, calibration_label, detector}, ExposureF),\n DatasetType(brightObjectMask, {abstract_filter, skymap, tract, patch}, ObjectMaskCatalog),\n DatasetType(camera, {instrument, calibration_label}, Camera),\n DatasetType(dark, {instrument, calibration_label, detector}, ExposureF),\n DatasetType(defects, {instrument, calibration_label, detector}, Defects),\n DatasetType(flat, {abstract_filter, instrument, calibration_label, detector, physical_filter}, ExposureF),\n DatasetType(raw, {abstract_filter, instrument, detector, physical_filter, exposure}, Exposure),\n DatasetType(sky, {abstract_filter, instrument, calibration_label, detector, physical_filter}, ExposureF),\n DatasetType(transmission_atmosphere, {instrument}, TransmissionCurve),\n DatasetType(transmission_filter, {abstract_filter, instrument, calibration_label, physical_filter}, TransmissionCurve),\n DatasetType(transmission_optics, {instrument, calibration_label}, TransmissionCurve),\n DatasetType(transmission_sensor, {instrument, calibration_label, detector}, TransmissionCurve)}"
     },
     "metadata": {},
     "execution_count": 27
    }
   ],
   "source": [
    "set(ref.datasetType for ref in butler.registry.queryDatasets(..., collections=[re.compile(\"HSC\\/.*\")]))"
   ]
  },
  {
   "cell_type": "markdown",
   "metadata": {},
   "source": [
    "Finally, `queryDataset` allows you to pass a [boolean expression (in mostly SQL-like syntax)](https://pipelines.lsst.io/v/weekly/modules/lsst.daf.butler/exprParser.html) that involves any dimension field (including metadata):"
   ]
  },
  {
   "cell_type": "code",
   "execution_count": 29,
   "metadata": {},
   "outputs": [
    {
     "output_type": "execute_result",
     "data": {
      "text/plain": "[DatasetRef(DatasetType(raw, {abstract_filter, instrument, detector, physical_filter, exposure}, Exposure), {abstract_filter: r, instrument: HSC, detector: 16, physical_filter: HSC-R, exposure: 903334}, id=986, run='HSC/raw/all'),\n DatasetRef(DatasetType(raw, {abstract_filter, instrument, detector, physical_filter, exposure}, Exposure), {abstract_filter: r, instrument: HSC, detector: 22, physical_filter: HSC-R, exposure: 903334}, id=987, run='HSC/raw/all'),\n DatasetRef(DatasetType(raw, {abstract_filter, instrument, detector, physical_filter, exposure}, Exposure), {abstract_filter: r, instrument: HSC, detector: 23, physical_filter: HSC-R, exposure: 903334}, id=988, run='HSC/raw/all'),\n DatasetRef(DatasetType(raw, {abstract_filter, instrument, detector, physical_filter, exposure}, Exposure), {abstract_filter: r, instrument: HSC, detector: 17, physical_filter: HSC-R, exposure: 903336}, id=989, run='HSC/raw/all'),\n DatasetRef(DatasetType(raw, {abstract_filter, instrument, detector, physical_filter, exposure}, Exposure), {abstract_filter: r, instrument: HSC, detector: 24, physical_filter: HSC-R, exposure: 903336}, id=990, run='HSC/raw/all')]"
     },
     "metadata": {},
     "execution_count": 29
    }
   ],
   "source": [
    "list(butler.registry.queryDatasets(\"raw\", collections=[\"HSC/raw/all\"], where=\"visit < 903338 AND detector IN (15..50)\"))"
   ]
  },
  {
   "cell_type": "markdown",
   "metadata": {},
   "source": [
    "## Data IDs and Dimensions"
   ]
  },
  {
   "cell_type": "markdown",
   "metadata": {},
   "source": [
    "Perhaps the biggest differences in `get` between Gen2 and Gen3 are in the data ID.  Here's the Gen3 data ID again, along with its Gen2 counterpart:"
   ]
  },
  {
   "cell_type": "code",
   "execution_count": 30,
   "metadata": {
    "tags": []
   },
   "outputs": [
    {
     "output_type": "stream",
     "name": "stdout",
     "text": "Gen3: {'skymap': 'discrete/ci_hsc', 'tract': 0, 'patch': 69, 'abstract_filter': 'r'}\nGen2: {'tract': 0, 'patch': '5,4', 'filter': 'HSC-R'}\n"
    }
   ],
   "source": [
    "dataId_gen2 = {\"tract\": 0, \"patch\": \"5,4\", \"filter\": \"HSC-R\"}\n",
    "print(f\"Gen3: {dataId}\")\n",
    "print(f\"Gen2: {dataId_gen2}\")"
   ]
  },
  {
   "cell_type": "markdown",
   "metadata": {},
   "source": [
    "Exactly one key-value pair is the same: `tract=0`."
   ]
  },
  {
   "cell_type": "markdown",
   "metadata": {},
   "source": [
    "One key-value pair has clearly has the same intent, but has both a different key and a different value: `abstract_filter=\"r\"`.  Gen3 distinguishes between \"physical\" filters, which are associated with a particular piece of glass on a particular instrument (these still have names like \"HSC-R\"), and \"abstract\" filters, which are named groups of similar filters (with names like \"r\").  The coadd dataset types are all defined in terms of `abstract_filter`.  That's not just so we can coadd data from multiple instruments together (this is just one of several steps we'd need to enable that) - it also helps with cameras like HSC that have two versions of the same filter (i.e. \"HSC-R\" and \"HSC-R2\" are both `physical_filters`) that we want to be able to combine.\n",
    "\n",
    "Right now, each `physical_filter` corresponds to exactly one `abstract_filter` (it's many-to-one).  We know that reality is more complex than that (many-to-many), and we expect to generalize this in the future.  We're thinking about renaming `abstract_filter` to just `filter` along the way."
   ]
  },
  {
   "cell_type": "markdown",
   "metadata": {},
   "source": [
    "The `skymap` key is a totally new one.  In Gen3, all data IDs that involve `tract` also need to involve a `skymap` key that indicates which `skymap` defines that tract.  New skymaps can be added to a `Registry` by calling [BaseSkyMap.register](https://pipelines.lsst.io/v/weekly/py-api/lsst.skymap.BaseSkyMap.html#lsst.skymap.BaseSkyMap.register) or running the [makeGen3SkyMap.py](https://github.com/lsst/pipe_tasks/blob/master/bin.src/makeGen3Skymap.py) command-line tool (which also writes a `deepCoadd_skyMap` dataset, which we usually want).  A skymap must be added to the `Registry` before we can run any `PipelineTask` or `put` any dataset that uses it."
   ]
  },
  {
   "cell_type": "markdown",
   "metadata": {},
   "source": [
    "The `patch` key is present in both the Gen2 and Gen3 data IDs, but with a different value.  That's because (as per [RFC-365](https://jira.lsstcorp.org/browse/RFC-365)) `patch` identifiers in Gen3 are single integers that encode both the `x` and `y` indices.  We'll show later how to convert between these."
   ]
  },
  {
   "cell_type": "markdown",
   "metadata": {},
   "source": [
    "### DataCoordinate and Dimension instances\n",
    "\n",
    "While you can still pass simple dictionaries as arguments to `Butler` and `Registry` APIs that expect data IDs, the objects we get back from the butler are always instances of `DataCoordinate`.  In fact, the data ID associated with a `DatasetRef` is a `DataCoordinate` as well:"
   ]
  },
  {
   "cell_type": "code",
   "execution_count": 31,
   "metadata": {},
   "outputs": [
    {
     "output_type": "execute_result",
     "data": {
      "text/plain": "{abstract_filter: r, skymap: discrete/ci_hsc, tract: 0, patch: 69}"
     },
     "metadata": {},
     "execution_count": 31
    }
   ],
   "source": [
    "ref.dataId"
   ]
  },
  {
   "cell_type": "markdown",
   "metadata": {},
   "source": [
    "Note that `DataCoordinate.__repr__` still prints something that looks _almost_ like a `dict` (note the lack of quotes around the keys), and unlike many `__repr__` strings, it isn't something you could execute to reconstruct the object.  That's because there's really nothing at all concise we could print to let you reconstruct it, and we decided to emphasize concise readability instead.\n",
    "\n",
    "`DataCoordinate` instances are dict-like objects, and they can be passed anywhere a dictionary-like data ID can be passed; many _internal_ `daf_butler` APIs require them."
   ]
  },
  {
   "cell_type": "markdown",
   "metadata": {},
   "source": [
    "The first thing worth noting about a `DataCoordinate` is that its keys aren't actually strings; they're instances of the `Dimension` class:"
   ]
  },
  {
   "cell_type": "code",
   "execution_count": 33,
   "metadata": {},
   "outputs": [
    {
     "output_type": "execute_result",
     "data": {
      "text/plain": "NamedValueSet({Dimension(abstract_filter), Dimension(skymap), Dimension(tract), Dimension(patch)})"
     },
     "metadata": {},
     "execution_count": 33
    }
   ],
   "source": [
    "ref.dataId.keys()"
   ]
  },
  {
   "cell_type": "markdown",
   "metadata": {},
   "source": [
    "`Dimension` instances are comparable to the strings that identify them, but they're much more than labels.  Using dimensions to identify datasets is a core concept for the Gen3 butler, and you can find a lot more information on it in the [API documentation](https://pipelines.lsst.io/v/weekly/modules/lsst.daf.butler/dimensions.html).  We'll cover the basics here.\n",
    "\n",
    "Most - but not all - dimensions are associated with a table in the `Registry` database.  The rows in those tables contain the valid data ID values for that dimension, but they can also contain metadata fields and foreign key fields that are used to model relationships between dimensions.  The rows in the dimension tables are the same across all collections - that's important, because we want the meaning of a data ID to be consistent across (e.g.) different processing runs.  Dimensions form a sort of scaffolding or skeleton for datasets - datasets do not have relationships of their own; instead we rely on the web of dimension relationships to connect them.\n",
    "\n",
    "The full set of dimensions known to a `Registry` is stored in a class called the `DimensionUniverse`:"
   ]
  },
  {
   "cell_type": "code",
   "execution_count": 34,
   "metadata": {},
   "outputs": [
    {
     "output_type": "execute_result",
     "data": {
      "text/plain": "DimensionUniverse({htm7, htm9, abstract_filter, instrument, skymap, calibration_label, detector, physical_filter, subfilter, tract, visit_system, exposure, patch, visit})"
     },
     "metadata": {},
     "execution_count": 34
    }
   ],
   "source": [
    "butler.registry.dimensions"
   ]
  },
  {
   "cell_type": "markdown",
   "metadata": {},
   "source": [
    "You can get dimension instances via dict-like indexing on this object, and we'll use that to take a closer look at the `visit` dimension:"
   ]
  },
  {
   "cell_type": "code",
   "execution_count": 35,
   "metadata": {},
   "outputs": [],
   "source": [
    "visit = butler.registry.dimensions[\"visit\"]"
   ]
  },
  {
   "cell_type": "markdown",
   "metadata": {},
   "source": [
    "Note that this object represents the _concept_ of a visit, not a particular visit.  The row in the database that corresponds to a single visit is represented in Python by a dynamically generated type you can access via `visit.RecordClass`.\n",
    "\n",
    "Let's start by printing the fields of the visit table:"
   ]
  },
  {
   "cell_type": "code",
   "execution_count": 38,
   "metadata": {},
   "outputs": [
    {
     "output_type": "execute_result",
     "data": {
      "text/plain": "('instrument',\n 'id',\n 'physical_filter',\n 'visit_system',\n 'name',\n 'exposure_time',\n 'seeing',\n 'region',\n 'datetime_begin',\n 'datetime_end')"
     },
     "metadata": {},
     "execution_count": 38
    }
   ],
   "source": [
    "visit.RecordClass.fields"
   ]
  },
  {
   "cell_type": "markdown",
   "metadata": {},
   "source": [
    "Some of these (`exposure_time`, `seeing`) are just metadata fields with no special structure.  We'll have to add more of these to `visit` in the future - this just isn't something we've tried to be comprehensive about yet.\n",
    "\n",
    "The `region` and `datetime*` fields are present because `visit` is `spatial` and `temporal`.  These define implied relationships to any other dimension that is spatial and/or temporal, via the overlap of their regions and/or timespans."
   ]
  },
  {
   "cell_type": "markdown",
   "metadata": {},
   "source": [
    "The `id` field is the _primary key_ for `visit`, which means it's what you use as the value in data ID key-value pairs.  `name` is an _alternate key_, which means it also uniquely identifies a visit, and someday we plan to make those usable as data ID values (but haven't yet):"
   ]
  },
  {
   "cell_type": "code",
   "execution_count": 44,
   "metadata": {
    "tags": []
   },
   "outputs": [
    {
     "output_type": "execute_result",
     "data": {
      "text/plain": "('id', sqlalchemy.sql.sqltypes.BigInteger)"
     },
     "metadata": {},
     "execution_count": 44
    }
   ],
   "source": [
    "(visit.primaryKey.name, visit.primaryKey.dtype)"
   ]
  },
  {
   "cell_type": "markdown",
   "metadata": {},
   "source": [
    "The _database_ primary key for the `visit` table isn't just `id`, though - `visit` has a _required dependency_ on the `instrument` dimension, which means it has a foreign key to the `instrument` table that is also part of its (compound) primary key:"
   ]
  },
  {
   "cell_type": "code",
   "execution_count": 47,
   "metadata": {
    "tags": []
   },
   "outputs": [
    {
     "output_type": "stream",
     "name": "stdout",
     "text": "{instrument, visit}\n"
    }
   ],
   "source": [
    "print(visit.required)"
   ]
  },
  {
   "cell_type": "markdown",
   "metadata": {},
   "source": [
    "This required dependency means that whenever the `visit` key appears in a data ID, the `instrument` key must as well.  You've already seen another example of this: the `tract` dimension has a required dependency on the `skymap` dimension:"
   ]
  },
  {
   "cell_type": "code",
   "execution_count": 46,
   "metadata": {
    "tags": []
   },
   "outputs": [
    {
     "output_type": "stream",
     "name": "stdout",
     "text": "{skymap, tract}\n"
    }
   ],
   "source": [
    "print(butler.registry.dimensions[\"tract\"].required)"
   ]
  },
  {
   "cell_type": "markdown",
   "metadata": {},
   "source": [
    "Finally, `visit` has an _implied dependency_ on the `physical_filter` dimension:"
   ]
  },
  {
   "cell_type": "code",
   "execution_count": 48,
   "metadata": {
    "tags": []
   },
   "outputs": [
    {
     "output_type": "stream",
     "name": "stdout",
     "text": "{physical_filter, visit_system}\n"
    }
   ],
   "source": [
    "print(visit.implied)"
   ]
  },
  {
   "cell_type": "markdown",
   "metadata": {},
   "source": [
    "On the database side, that means that the `visit` table has a `physical_filter` field that is a foreign key but _not_ a primary key.  In terms of data IDs, this means that you _don't_ need to pass a `physical_filter` key in a data ID that involves `visit`, but the `Registry` can add one for you based on what's in the database."
   ]
  },
  {
   "cell_type": "markdown",
   "metadata": {},
   "source": [
    "### Expanded DataCoordinates\n",
    "\n",
    "You can get that extra dimension information from the `Registry` by calling `expandDataId`:"
   ]
  },
  {
   "cell_type": "code",
   "execution_count": 49,
   "metadata": {},
   "outputs": [
    {
     "output_type": "execute_result",
     "data": {
      "text/plain": "{abstract_filter: r, instrument: HSC, physical_filter: HSC-R, visit_system: 0, visit: 903338}"
     },
     "metadata": {},
     "execution_count": 49
    }
   ],
   "source": [
    "expanded = butler.registry.expandDataId({\"instrument\": \"HSC\", \"visit\": 903338})\n",
    "expanded"
   ]
  },
  {
   "cell_type": "markdown",
   "metadata": {},
   "source": [
    "When you expand a data ID like this, you get everything the database knows about those dimensions.  In order to make `DataCoordinate`s that do have this extra information behave compatibly with those that don't, its behavior can be a little tricky; while you can ask it for the values of implied dimensions:"
   ]
  },
  {
   "cell_type": "code",
   "execution_count": 50,
   "metadata": {},
   "outputs": [
    {
     "output_type": "execute_result",
     "data": {
      "text/plain": "'HSC-R'"
     },
     "metadata": {},
     "execution_count": 50
    }
   ],
   "source": [
    "expanded[\"physical_filter\"]"
   ]
  },
  {
   "cell_type": "markdown",
   "metadata": {},
   "source": [
    "they don't appear in `keys()` or iteration, which are still just the required dimensions:"
   ]
  },
  {
   "cell_type": "code",
   "execution_count": 51,
   "metadata": {},
   "outputs": [
    {
     "output_type": "execute_result",
     "data": {
      "text/plain": "NamedValueSet({Dimension(instrument), Dimension(visit)})"
     },
     "metadata": {},
     "execution_count": 51
    }
   ],
   "source": [
    "expanded.keys()"
   ]
  },
  {
   "cell_type": "markdown",
   "metadata": {},
   "source": [
    "You can get a dict with the full set of keys with:"
   ]
  },
  {
   "cell_type": "code",
   "execution_count": 53,
   "metadata": {
    "tags": []
   },
   "outputs": [
    {
     "output_type": "stream",
     "name": "stdout",
     "text": "{Dimension(abstract_filter): 'r', Dimension(instrument): 'HSC', Dimension(physical_filter): 'HSC-R', Dimension(visit_system): 0, Dimension(visit): 903338}\n"
    }
   ],
   "source": [
    "print(dict(expanded.full))"
   ]
  },
  {
   "cell_type": "markdown",
   "metadata": {},
   "source": [
    "Note that `abstract_filter` is here, too, not just `physical_filter`.  That's because `physical_filter` has an implied dependency on `abstract_filter`, and those dependencies are expanded recursively:"
   ]
  },
  {
   "cell_type": "code",
   "execution_count": null,
   "metadata": {},
   "outputs": [],
   "source": [
    "print(butler.registry.dimensions[\"physical_filter\"].implied)"
   ]
  },
  {
   "cell_type": "markdown",
   "metadata": {},
   "source": [
    "`DataCoordinate.records` is a dictionary with all of the metadata of all of the dimensions:"
   ]
  },
  {
   "cell_type": "code",
   "execution_count": 58,
   "metadata": {
    "tags": []
   },
   "outputs": [
    {
     "output_type": "stream",
     "name": "stdout",
     "text": "abstract_filter:\n  name: 'r'\ninstrument:\n  name: 'HSC'\n  visit_max: 21474800\n  exposure_max: 21474800\n  detector_max: 200\n  class_name: 'lsst.obs.subaru.HyperSuprimeCam'\nphysical_filter:\n  instrument: 'HSC'\n  name: 'HSC-R'\n  abstract_filter: 'r'\nvisit_system:\n  instrument: 'HSC'\n  id: 0\n  name: 'one-to-one'\nvisit:\n  instrument: 'HSC'\n  id: 903338\n  physical_filter: 'HSC-R'\n  visit_system: 0\n  name: 'HSCA90333800'\n  exposure_time: 30.0\n  seeing: None\n  region: ConvexPolygon([UnitVector3d(0.7660793582192826, -0.6425764814519453, -0.014760839920874362), UnitVector3d(0.7681582924262328, -0.6400512116141268, -0.016348831398683494), UnitVector3d(0.7739440529881775, -0.6330309859058488, -0.016803979507903348), UnitVector3d(0.7744855585869767, -0.6323682622614648, -0.01680774894606699), UnitVector3d(0.7801714151265831, -0.6253495087381339, -0.01644855435469963), UnitVector3d(0.7822037094777117, -0.6228462911184365, -0.014827492010303119), UnitVector3d(0.7833956402965732, -0.6214112460886911, -0.011803982328964315), UnitVector3d(0.7844603097270918, -0.6201190860294672, -0.008622157784062565), UnitVector3d(0.784545983130367, -0.6200304746327203, -0.007057682390807695), UnitVector3d(0.7846146909294821, -0.6199596161776157, -0.0054645298550387205), UnitVector3d(0.784665028345312, -0.6199080082958075, -0.0038541591269394193), UnitVector3d(0.784698237292739, -0.6198739389407883, -0.0022307424100284586), UnitVector3d(0.7847098159244472, -0.6198624299330873, -0.0010357360998470115), UnitVector3d(0.7847123927920775, -0.6198597382239688, -0.0006045886579350912), UnitVector3d(0.7847146040542043, -0.6198569506124099, 0.0005924200685504534), UnitVector3d(0.7847140413925767, -0.6198570766250825, 0.0010381710534652032), UnitVector3d(0.7847018955656746, -0.6198693277766931, 0.002225213991380285), UnitVector3d(0.7846745998965245, -0.6198959241571493, 0.003849089578446252), UnitVector3d(0.7846322955771875, -0.6199373742316806, 0.005460106958862539), UnitVector3d(0.7845771699201727, -0.6199910995552932, 0.007049887394201618), UnitVector3d(0.7845037622469595, -0.6200639216304371, 0.00863597780503049), UnitVector3d(0.7834439942199187, -0.6213498701084759, 0.011825685473585593), UnitVector3d(0.7822803695064569, -0.6227502714802012, 0.014816303728554086), UnitVector3d(0.7802246136778502, -0.6252849856290855, 0.016378002261683365), UnitVector3d(0.7744710920986072, -0.63238578128523, 0.016815205376680478), UnitVector3d(0.7739276559926233, -0.633050692906448, 0.016816762483598494), UnitVector3d(0.7681394861768623, -0.6400713332079516, 0.01644439665482468), UnitVector3d(0.7660946822894539, -0.642556351471706, 0.014841595304759436), UnitVector3d(0.764934007967926, -0.6440003805162066, 0.011809883534816075), UnitVector3d(0.7638973733969541, -0.6452800592934845, 0.008628325181139929), UnitVector3d(0.7638285846165547, -0.6453806330694315, 0.0070520764013615785), UnitVector3d(0.7637757050821348, -0.6454586175870405, 0.0054630860248186365), UnitVector3d(0.7637361384204291, -0.6455170424077333, 0.003854715530848318), UnitVector3d(0.7637094879238538, -0.6455562150082025, 0.0022341260860414052), UnitVector3d(0.7636978507670396, -0.6455730098422662, 0.0010400466344753856), UnitVector3d(0.7636955900207167, -0.6455762383929383, 0.0006051490175753925), UnitVector3d(0.7636952408169605, -0.6455766636034036, -0.0005920846412096432), UnitVector3d(0.7636954879794775, -0.6455758305582825, -0.0010240306497326908), UnitVector3d(0.7637027763466558, -0.645564217863435, -0.002215855315986248), UnitVector3d(0.7637237180875689, -0.6455318611182218, -0.0038338898972905145), UnitVector3d(0.7637554398648816, -0.645482815682631, -0.005437162423896296), UnitVector3d(0.7637985826330497, -0.6454164641545029, -0.007022319135704159), UnitVector3d(0.7638506986961455, -0.6453359018062358, -0.008583935073307692), UnitVector3d(0.7648993475047475, -0.64404228635758, -0.011769518686522496)])\n  datetime_begin: <Time object: scale='tai' format='iso' value=2013-06-17 13:32:00.170000>\n  datetime_end: <Time object: scale='tai' format='iso' value=2013-06-17 13:32:32.142000>\n"
    }
   ],
   "source": [
    "for record in expanded.records.values():\n",
    "    print(record)"
   ]
  },
  {
   "cell_type": "markdown",
   "metadata": {},
   "source": [
    "Finally, you can ask a `DataCoordinate` for its `region`, which is a [lsst.sphgeom.ConvexPolygon](http://doxygen.lsst.codes/stack/doxygen/x_masterDoxyDoc/classlsst_1_1sphgeom_1_1_convex_polygon.html) if the data ID corresponds to a region on the sky, or `None` if it does not:"
   ]
  },
  {
   "cell_type": "code",
   "execution_count": 59,
   "metadata": {},
   "outputs": [
    {
     "output_type": "execute_result",
     "data": {
      "text/plain": "ConvexPolygon([UnitVector3d(0.7660793582192826, -0.6425764814519453, -0.014760839920874362), UnitVector3d(0.7681582924262328, -0.6400512116141268, -0.016348831398683494), UnitVector3d(0.7739440529881775, -0.6330309859058488, -0.016803979507903348), UnitVector3d(0.7744855585869767, -0.6323682622614648, -0.01680774894606699), UnitVector3d(0.7801714151265831, -0.6253495087381339, -0.01644855435469963), UnitVector3d(0.7822037094777117, -0.6228462911184365, -0.014827492010303119), UnitVector3d(0.7833956402965732, -0.6214112460886911, -0.011803982328964315), UnitVector3d(0.7844603097270918, -0.6201190860294672, -0.008622157784062565), UnitVector3d(0.784545983130367, -0.6200304746327203, -0.007057682390807695), UnitVector3d(0.7846146909294821, -0.6199596161776157, -0.0054645298550387205), UnitVector3d(0.784665028345312, -0.6199080082958075, -0.0038541591269394193), UnitVector3d(0.784698237292739, -0.6198739389407883, -0.0022307424100284586), UnitVector3d(0.7847098159244472, -0.6198624299330873, -0.0010357360998470115), UnitVector3d(0.7847123927920775, -0.6198597382239688, -0.0006045886579350912), UnitVector3d(0.7847146040542043, -0.6198569506124099, 0.0005924200685504534), UnitVector3d(0.7847140413925767, -0.6198570766250825, 0.0010381710534652032), UnitVector3d(0.7847018955656746, -0.6198693277766931, 0.002225213991380285), UnitVector3d(0.7846745998965245, -0.6198959241571493, 0.003849089578446252), UnitVector3d(0.7846322955771875, -0.6199373742316806, 0.005460106958862539), UnitVector3d(0.7845771699201727, -0.6199910995552932, 0.007049887394201618), UnitVector3d(0.7845037622469595, -0.6200639216304371, 0.00863597780503049), UnitVector3d(0.7834439942199187, -0.6213498701084759, 0.011825685473585593), UnitVector3d(0.7822803695064569, -0.6227502714802012, 0.014816303728554086), UnitVector3d(0.7802246136778502, -0.6252849856290855, 0.016378002261683365), UnitVector3d(0.7744710920986072, -0.63238578128523, 0.016815205376680478), UnitVector3d(0.7739276559926233, -0.633050692906448, 0.016816762483598494), UnitVector3d(0.7681394861768623, -0.6400713332079516, 0.01644439665482468), UnitVector3d(0.7660946822894539, -0.642556351471706, 0.014841595304759436), UnitVector3d(0.764934007967926, -0.6440003805162066, 0.011809883534816075), UnitVector3d(0.7638973733969541, -0.6452800592934845, 0.008628325181139929), UnitVector3d(0.7638285846165547, -0.6453806330694315, 0.0070520764013615785), UnitVector3d(0.7637757050821348, -0.6454586175870405, 0.0054630860248186365), UnitVector3d(0.7637361384204291, -0.6455170424077333, 0.003854715530848318), UnitVector3d(0.7637094879238538, -0.6455562150082025, 0.0022341260860414052), UnitVector3d(0.7636978507670396, -0.6455730098422662, 0.0010400466344753856), UnitVector3d(0.7636955900207167, -0.6455762383929383, 0.0006051490175753925), UnitVector3d(0.7636952408169605, -0.6455766636034036, -0.0005920846412096432), UnitVector3d(0.7636954879794775, -0.6455758305582825, -0.0010240306497326908), UnitVector3d(0.7637027763466558, -0.645564217863435, -0.002215855315986248), UnitVector3d(0.7637237180875689, -0.6455318611182218, -0.0038338898972905145), UnitVector3d(0.7637554398648816, -0.645482815682631, -0.005437162423896296), UnitVector3d(0.7637985826330497, -0.6454164641545029, -0.007022319135704159), UnitVector3d(0.7638506986961455, -0.6453359018062358, -0.008583935073307692), UnitVector3d(0.7648993475047475, -0.64404228635758, -0.011769518686522496)])"
     },
     "metadata": {},
     "execution_count": 59
    }
   ],
   "source": [
    "expanded.region"
   ]
  },
  {
   "cell_type": "markdown",
   "metadata": {},
   "source": [
    "As we discussed earlier, this region may be heavily padded to account for inaccurate initial WCSs, but they should be guaranteed to contain the true region."
   ]
  },
  {
   "cell_type": "markdown",
   "metadata": {},
   "source": [
    "### DimensionGraph\n",
    "\n",
    "The sometimes-complex system of relationships between dimensions makes it very useful to have a specialized container for them, and we've actually already seen this class (`DimensionGraph`) in use in a few places:"
   ]
  },
  {
   "cell_type": "code",
   "execution_count": 60,
   "metadata": {},
   "outputs": [
    {
     "output_type": "execute_result",
     "data": {
      "text/plain": "DimensionGraph({abstract_filter, skymap, tract, patch})"
     },
     "metadata": {},
     "execution_count": 60
    }
   ],
   "source": [
    "deepCoaddType.dimensions"
   ]
  },
  {
   "cell_type": "code",
   "execution_count": 61,
   "metadata": {},
   "outputs": [
    {
     "output_type": "execute_result",
     "data": {
      "text/plain": "DimensionGraph({abstract_filter, skymap, tract, patch})"
     },
     "metadata": {},
     "execution_count": 61
    }
   ],
   "source": [
    "ref.dataId.graph"
   ]
  },
  {
   "cell_type": "code",
   "execution_count": 62,
   "metadata": {},
   "outputs": [
    {
     "output_type": "execute_result",
     "data": {
      "text/plain": "DimensionGraph({abstract_filter, instrument, physical_filter, visit_system, visit})"
     },
     "metadata": {},
     "execution_count": 62
    }
   ],
   "source": [
    "visit.graph"
   ]
  },
  {
   "cell_type": "markdown",
   "metadata": {},
   "source": [
    "`DimensionUniverse` is a special subclass of `DimensionGraph` as well."
   ]
  },
  {
   "cell_type": "markdown",
   "metadata": {},
   "source": [
    "To explore `DimensionGraph` further, we'll start by extracting an interesting and common set of dimensions from the universe - these are the ones used to label the `calexp` dataset:"
   ]
  },
  {
   "cell_type": "code",
   "execution_count": 63,
   "metadata": {
    "tags": []
   },
   "outputs": [
    {
     "output_type": "stream",
     "name": "stdout",
     "text": "{abstract_filter, instrument, detector, physical_filter, visit_system, visit}\n"
    }
   ],
   "source": [
    "graph = butler.registry.dimensions.extract([\"detector\", \"visit\"])\n",
    "print(graph)"
   ]
  },
  {
   "cell_type": "markdown",
   "metadata": {},
   "source": [
    "The first thing to note here is that the set of dimensions is automatically expanded to include all (recursive) required and implied dimensions.  The dimensions are also sorted topologically (dependents follow their dependencies), with string (lexicographical) comparisons to break ties.\n",
    "\n",
    "We can ask a `DimensionGraph` for its `required` and `implied` dimensions:"
   ]
  },
  {
   "cell_type": "code",
   "execution_count": 64,
   "metadata": {
    "tags": []
   },
   "outputs": [
    {
     "output_type": "stream",
     "name": "stdout",
     "text": "{instrument, detector, visit}\n{abstract_filter, physical_filter, visit_system}\n"
    }
   ],
   "source": [
    "print(graph.required)\n",
    "print(graph.implied)"
   ]
  },
  {
   "cell_type": "markdown",
   "metadata": {},
   "source": [
    "Note that which dimensions are `implied` depends on which dimensions are present; `physical_filter` is only `implied` here because `visit` is also in the graph.\n",
    "\n",
    "The *required* dimensions of a graph are particularly important, because those are the keys of a `DataCoordinate` that identifies the dimensions of that graph.\n",
    "\n",
    "You can also ask a `DimensionGraph` for its `temporal` and `spatial` dimensions:"
   ]
  },
  {
   "cell_type": "code",
   "execution_count": 65,
   "metadata": {
    "tags": []
   },
   "outputs": [
    {
     "output_type": "stream",
     "name": "stdout",
     "text": "{visit}\n"
    }
   ],
   "source": [
    "print(graph.temporal)"
   ]
  },
  {
   "cell_type": "code",
   "execution_count": 66,
   "metadata": {
    "tags": []
   },
   "outputs": [
    {
     "output_type": "stream",
     "name": "stdout",
     "text": "{visit_detector_region}\n"
    }
   ],
   "source": [
    "print(graph.spatial)"
   ]
  },
  {
   "cell_type": "markdown",
   "metadata": {},
   "source": [
    "That last answer is a bit unexpected - `visit_detector_region` isn't even one of the dimensions in the graph!  Instead, it's a table that's part of the dimensions system, without being an actual `Dimension` itself.  It can't be used as a data ID key, but it is used to provide other information about true dimensions.  In this case, that extra information is the `region` associated with the _combination_ of a `visit` and a `detector`.  A `visit` has its own region, but the system knows that the one provided by `visit_detector_region` is more specific and hence a better match for this graph.\n",
    "\n",
    "The graph's spatial dimension is what defines the `region` attribute of any `DataCoordinate` for that graph.  That's why we want to select the \"best\" spatial dimension rather than reporting all of them; if a graph has more than one spatial dimension and neither is clearly better, trying to access a data IDs region will raise an exception:"
   ]
  },
  {
   "cell_type": "code",
   "execution_count": 71,
   "metadata": {
    "tags": []
   },
   "outputs": [
    {
     "output_type": "stream",
     "name": "stdout",
     "text": "{tract, visit}\n"
    }
   ],
   "source": [
    "dataIdWithAmbiguousRegion = butler.registry.expandDataId({\"skymap\": \"discrete/ci_hsc\", \"tract\": 0, \"instrument\": \"HSC\", \"visit\": 903334})\n",
    "print(dataIdWithAmbiguousRegion.graph.spatial)"
   ]
  },
  {
   "cell_type": "code",
   "execution_count": 72,
   "metadata": {},
   "outputs": [
    {
     "output_type": "execute_result",
     "data": {
      "text/plain": "NotImplemented"
     },
     "metadata": {},
     "execution_count": 72
    }
   ],
   "source": [
    "dataIdWithAmbiguousRegion.region"
   ]
  },
  {
   "cell_type": "markdown",
   "metadata": {},
   "source": [
    "### SkyPix Dimensions"
   ]
  },
  {
   "cell_type": "markdown",
   "metadata": {},
   "source": [
    "The `htm7` and `htm9` dimensions in this universe are special; they're represented in code by the `SkyPixDimension` subclass:"
   ]
  },
  {
   "cell_type": "code",
   "execution_count": 73,
   "metadata": {},
   "outputs": [
    {
     "output_type": "execute_result",
     "data": {
      "text/plain": "SkyPixDimension(htm9)"
     },
     "metadata": {},
     "execution_count": 73
    }
   ],
   "source": [
    "htm9 = butler.registry.dimensions[\"htm9\"]\n",
    "htm9"
   ]
  },
  {
   "cell_type": "markdown",
   "metadata": {},
   "source": [
    "A skypix dimension represents a particular level of a particular hierarchical pixelization of the sky, which corresponds to an instance of [lsst.sphgeom.Pixelization](http://doxygen.lsst.codes/stack/doxygen/x_masterDoxyDoc/classlsst_1_1sphgeom_1_1_pixelization.html)."
   ]
  },
  {
   "cell_type": "code",
   "execution_count": 74,
   "metadata": {},
   "outputs": [
    {
     "output_type": "execute_result",
     "data": {
      "text/plain": "HtmPixelization(9)"
     },
     "metadata": {},
     "execution_count": 74
    }
   ],
   "source": [
    "htm9.pixelization"
   ]
  },
  {
   "cell_type": "markdown",
   "metadata": {},
   "source": [
    "A `Pixelization` instance knows how to go from integer IDs to regions on the sky and back:"
   ]
  },
  {
   "cell_type": "code",
   "execution_count": 76,
   "metadata": {
    "tags": []
   },
   "outputs": [
    {
     "output_type": "stream",
     "name": "stdout",
     "text": "[(3031552, 3031568), (3031573, 3031574), (3031576, 3031577), (3031578, 3031581), (3031588, 3031590), (3031591, 3031592), (3031594, 3031595), (3031596, 3031597), (3031601, 3031616), (3033344, 3033360), (3033368, 3033369), (3033370, 3033372), (3033377, 3033378), (3033380, 3033384), (3033386, 3033387), (3033388, 3033389), (3033390, 3033392), (3033393, 3033408), (3034368, 3034384), (3034392, 3034393), (3034394, 3034396), (3034404, 3034405), (3034420, 3034432), (3178752, 3178768), (3178773, 3178774), (3178776, 3178777), (3178778, 3178781), (3178788, 3178790), (3178791, 3178792), (3178794, 3178795), (3178796, 3178797), (3178801, 3178816), (3180032, 3180048), (3180050, 3180051), (3180053, 3180054), (3180056, 3180062), (3180063, 3180064), (3180068, 3180070), (3180071, 3180072), (3180074, 3180075), (3180076, 3180077), (3180081, 3180096), (3182080, 3182096), (3182104, 3182105), (3182116, 3182118), (3182119, 3182120), (3182132, 3182137), (3182138, 3182141), (3182142, 3182144)]\n"
    }
   ],
   "source": [
    "print(htm9.pixelization.envelope(expanded.region))"
   ]
  },
  {
   "cell_type": "code",
   "execution_count": 77,
   "metadata": {
    "tags": []
   },
   "outputs": [
    {
     "output_type": "stream",
     "name": "stdout",
     "text": "ConvexPolygon([UnitVector3d(0.773010453362737, -0.6343932841636455, 0.0), UnitVector3d(0.7710605242618138, -0.6367618612362842, 0.0), UnitVector3d(0.7725653343241956, -0.6349265062178546, -0.003337049974569806)])\n"
    }
   ],
   "source": [
    "print(htm9.pixelization.pixel(3031552))"
   ]
  },
  {
   "cell_type": "markdown",
   "metadata": {},
   "source": [
    "Because these mappings are fully defined in code, we don't also put them in the database, so `skypix` dimensions don't have their own entries in the `Registry` database.\n",
    "\n",
    "However, we also use *one* skypix dimension, called the \"common\" skypix dimension, as a sort of spatial index that relates all other spatial dimensions in the database.  It still doesn't have its own table, but the database does have join tables that relate the common skypix dimension's IDs to the primary keys of other dimensions.  Usually this should be completely transparent.  You can get the common skypix dimension from the universe:"
   ]
  },
  {
   "cell_type": "code",
   "execution_count": 78,
   "metadata": {},
   "outputs": [
    {
     "output_type": "execute_result",
     "data": {
      "text/plain": "SkyPixDimension(htm7)"
     },
     "metadata": {},
     "execution_count": 78
    }
   ],
   "source": [
    "butler.registry.dimensions.commonSkyPix"
   ]
  },
  {
   "cell_type": "markdown",
   "metadata": {},
   "source": [
    "### Querying Dimensions"
   ]
  },
  {
   "cell_type": "markdown",
   "metadata": {},
   "source": [
    "You can use `Registry.queryDimensions` to run complex queries that return data IDs.  It accepts many of the same arguments as `queryDatasets`, and also returns iterators.  The first set of arguments is the set of dimensions the returned data IDs should include.  This can be any iterable over strings or `Dimension` instances, and will be expanded to a self-consistent `DimensionGraph` automatically:"
   ]
  },
  {
   "cell_type": "code",
   "execution_count": 79,
   "metadata": {
    "tags": []
   },
   "outputs": [
    {
     "output_type": "stream",
     "name": "stdout",
     "text": "{abstract_filter: i, instrument: HSC, physical_filter: HSC-I, visit_system: 0, visit: 903990}\n{abstract_filter: i, instrument: HSC, physical_filter: HSC-I, visit_system: 0, visit: 904010}\n{abstract_filter: i, instrument: HSC, physical_filter: HSC-I, visit_system: 0, visit: 904014}\n{abstract_filter: i, instrument: HSC, physical_filter: HSC-I, visit_system: 0, visit: 903988}\n{abstract_filter: i, instrument: HSC, physical_filter: HSC-I, visit_system: 0, visit: 903986}\n"
    }
   ],
   "source": [
    "for dataId in butler.registry.queryDimensions([\"visit\"], instrument=\"HSC\", physical_filter=\"HSC-I\"):\n",
    "    print(dataId)"
   ]
  },
  {
   "cell_type": "markdown",
   "metadata": {},
   "source": [
    "It's worth noting that you have to include `instrument` here if you want to pass `physical_filter` as a partial data ID (the same would be true in `queryDataset`) because we convert the given data ID into an `DataCoordinate` *before* we run the query.  That can't work unless you specify the `instrument`, because the `physical_filter` dimension has a required dependency on the `instrument` dimension:"
   ]
  },
  {
   "cell_type": "code",
   "execution_count": 80,
   "metadata": {},
   "outputs": [
    {
     "output_type": "error",
     "ename": "KeyError",
     "evalue": "\"No value in data ID (None) for required dimension 'instrument'.\"",
     "traceback": [
      "\u001b[0;31m---------------------------------------------------------------------------\u001b[0m",
      "\u001b[0;31mKeyError\u001b[0m                                  Traceback (most recent call last)",
      "\u001b[0;32m~/LSST/src/daf_butler/python/lsst/daf/butler/core/dimensions/coordinate.py\u001b[0m in \u001b[0;36mstandardize\u001b[0;34m(mapping, graph, universe, **kwargs)\u001b[0m\n\u001b[1;32m    204\u001b[0m             \u001b[0;32mtry\u001b[0m\u001b[0;34m:\u001b[0m\u001b[0;34m\u001b[0m\u001b[0;34m\u001b[0m\u001b[0m\n\u001b[0;32m--> 205\u001b[0;31m                 \u001b[0mvalues\u001b[0m \u001b[0;34m=\u001b[0m \u001b[0mtuple\u001b[0m\u001b[0;34m(\u001b[0m\u001b[0md\u001b[0m\u001b[0;34m[\u001b[0m\u001b[0mname\u001b[0m\u001b[0;34m]\u001b[0m \u001b[0;32mfor\u001b[0m \u001b[0mname\u001b[0m \u001b[0;32min\u001b[0m \u001b[0mgraph\u001b[0m\u001b[0;34m.\u001b[0m\u001b[0mrequired\u001b[0m\u001b[0;34m.\u001b[0m\u001b[0mnames\u001b[0m\u001b[0;34m)\u001b[0m\u001b[0;34m\u001b[0m\u001b[0;34m\u001b[0m\u001b[0m\n\u001b[0m\u001b[1;32m    206\u001b[0m             \u001b[0;32mexcept\u001b[0m \u001b[0mKeyError\u001b[0m \u001b[0;32mas\u001b[0m \u001b[0merr\u001b[0m\u001b[0;34m:\u001b[0m\u001b[0;34m\u001b[0m\u001b[0;34m\u001b[0m\u001b[0m\n",
      "\u001b[0;32m~/LSST/src/daf_butler/python/lsst/daf/butler/core/dimensions/coordinate.py\u001b[0m in \u001b[0;36m<genexpr>\u001b[0;34m(.0)\u001b[0m\n\u001b[1;32m    204\u001b[0m             \u001b[0;32mtry\u001b[0m\u001b[0;34m:\u001b[0m\u001b[0;34m\u001b[0m\u001b[0;34m\u001b[0m\u001b[0m\n\u001b[0;32m--> 205\u001b[0;31m                 \u001b[0mvalues\u001b[0m \u001b[0;34m=\u001b[0m \u001b[0mtuple\u001b[0m\u001b[0;34m(\u001b[0m\u001b[0md\u001b[0m\u001b[0;34m[\u001b[0m\u001b[0mname\u001b[0m\u001b[0;34m]\u001b[0m \u001b[0;32mfor\u001b[0m \u001b[0mname\u001b[0m \u001b[0;32min\u001b[0m \u001b[0mgraph\u001b[0m\u001b[0;34m.\u001b[0m\u001b[0mrequired\u001b[0m\u001b[0;34m.\u001b[0m\u001b[0mnames\u001b[0m\u001b[0;34m)\u001b[0m\u001b[0;34m\u001b[0m\u001b[0;34m\u001b[0m\u001b[0m\n\u001b[0m\u001b[1;32m    206\u001b[0m             \u001b[0;32mexcept\u001b[0m \u001b[0mKeyError\u001b[0m \u001b[0;32mas\u001b[0m \u001b[0merr\u001b[0m\u001b[0;34m:\u001b[0m\u001b[0;34m\u001b[0m\u001b[0;34m\u001b[0m\u001b[0m\n",
      "\u001b[0;31mKeyError\u001b[0m: 'instrument'",
      "\nThe above exception was the direct cause of the following exception:\n",
      "\u001b[0;31mKeyError\u001b[0m                                  Traceback (most recent call last)",
      "\u001b[0;32m<ipython-input-80-bdf93d3a481b>\u001b[0m in \u001b[0;36m<module>\u001b[0;34m\u001b[0m\n\u001b[0;32m----> 1\u001b[0;31m \u001b[0;32mfor\u001b[0m \u001b[0mdataId\u001b[0m \u001b[0;32min\u001b[0m \u001b[0mbutler\u001b[0m\u001b[0;34m.\u001b[0m\u001b[0mregistry\u001b[0m\u001b[0;34m.\u001b[0m\u001b[0mqueryDimensions\u001b[0m\u001b[0;34m(\u001b[0m\u001b[0;34m[\u001b[0m\u001b[0;34m\"visit\"\u001b[0m\u001b[0;34m]\u001b[0m\u001b[0;34m,\u001b[0m \u001b[0mphysical_filter\u001b[0m\u001b[0;34m=\u001b[0m\u001b[0;34m\"HSC-I\"\u001b[0m\u001b[0;34m)\u001b[0m\u001b[0;34m:\u001b[0m\u001b[0;34m\u001b[0m\u001b[0;34m\u001b[0m\u001b[0m\n\u001b[0m\u001b[1;32m      2\u001b[0m     \u001b[0mprint\u001b[0m\u001b[0;34m(\u001b[0m\u001b[0mdataId\u001b[0m\u001b[0;34m)\u001b[0m\u001b[0;34m\u001b[0m\u001b[0;34m\u001b[0m\u001b[0m\n",
      "\u001b[0;32m~/LSST/src/daf_butler/python/lsst/daf/butler/registry/_registry.py\u001b[0m in \u001b[0;36mqueryDimensions\u001b[0;34m(self, dimensions, dataId, datasets, collections, where, expand, components, **kwargs)\u001b[0m\n\u001b[1;32m   1123\u001b[0m         \"\"\"\n\u001b[1;32m   1124\u001b[0m         \u001b[0mdimensions\u001b[0m \u001b[0;34m=\u001b[0m \u001b[0miterable\u001b[0m\u001b[0;34m(\u001b[0m\u001b[0mdimensions\u001b[0m\u001b[0;34m)\u001b[0m\u001b[0;34m\u001b[0m\u001b[0;34m\u001b[0m\u001b[0m\n\u001b[0;32m-> 1125\u001b[0;31m         \u001b[0mstandardizedDataId\u001b[0m \u001b[0;34m=\u001b[0m \u001b[0mself\u001b[0m\u001b[0;34m.\u001b[0m\u001b[0mexpandDataId\u001b[0m\u001b[0;34m(\u001b[0m\u001b[0mdataId\u001b[0m\u001b[0;34m,\u001b[0m \u001b[0;34m**\u001b[0m\u001b[0mkwargs\u001b[0m\u001b[0;34m)\u001b[0m\u001b[0;34m\u001b[0m\u001b[0;34m\u001b[0m\u001b[0m\n\u001b[0m\u001b[1;32m   1126\u001b[0m         \u001b[0mstandardizedDatasetTypes\u001b[0m \u001b[0;34m=\u001b[0m \u001b[0mset\u001b[0m\u001b[0;34m(\u001b[0m\u001b[0;34m)\u001b[0m\u001b[0;34m\u001b[0m\u001b[0;34m\u001b[0m\u001b[0m\n\u001b[1;32m   1127\u001b[0m         \u001b[0mrequestedDimensionNames\u001b[0m \u001b[0;34m=\u001b[0m \u001b[0mset\u001b[0m\u001b[0;34m(\u001b[0m\u001b[0mself\u001b[0m\u001b[0;34m.\u001b[0m\u001b[0mdimensions\u001b[0m\u001b[0;34m.\u001b[0m\u001b[0mextract\u001b[0m\u001b[0;34m(\u001b[0m\u001b[0mdimensions\u001b[0m\u001b[0;34m)\u001b[0m\u001b[0;34m.\u001b[0m\u001b[0mnames\u001b[0m\u001b[0;34m)\u001b[0m\u001b[0;34m\u001b[0m\u001b[0;34m\u001b[0m\u001b[0m\n",
      "\u001b[0;32m~/LSST/src/daf_butler/python/lsst/daf/butler/registry/_registry.py\u001b[0m in \u001b[0;36mexpandDataId\u001b[0;34m(self, dataId, graph, records, **kwargs)\u001b[0m\n\u001b[1;32m    794\u001b[0m             \u001b[0;31m`\u001b[0m\u001b[0;31m`\u001b[0m\u001b[0mexpanded\u001b[0m\u001b[0;34m.\u001b[0m\u001b[0mhasFull\u001b[0m\u001b[0;34m(\u001b[0m\u001b[0;34m)\u001b[0m\u001b[0;31m`\u001b[0m\u001b[0;31m`\u001b[0m \u001b[0mboth\u001b[0m \u001b[0;32mreturn\u001b[0m\u001b[0;31m \u001b[0m\u001b[0;31m`\u001b[0m\u001b[0;32mTrue\u001b[0m\u001b[0;31m`\u001b[0m\u001b[0;34m.\u001b[0m\u001b[0;34m\u001b[0m\u001b[0;34m\u001b[0m\u001b[0m\n\u001b[1;32m    795\u001b[0m         \"\"\"\n\u001b[0;32m--> 796\u001b[0;31m         \u001b[0mstandardized\u001b[0m \u001b[0;34m=\u001b[0m \u001b[0mDataCoordinate\u001b[0m\u001b[0;34m.\u001b[0m\u001b[0mstandardize\u001b[0m\u001b[0;34m(\u001b[0m\u001b[0mdataId\u001b[0m\u001b[0;34m,\u001b[0m \u001b[0mgraph\u001b[0m\u001b[0;34m=\u001b[0m\u001b[0mgraph\u001b[0m\u001b[0;34m,\u001b[0m \u001b[0muniverse\u001b[0m\u001b[0;34m=\u001b[0m\u001b[0mself\u001b[0m\u001b[0;34m.\u001b[0m\u001b[0mdimensions\u001b[0m\u001b[0;34m,\u001b[0m \u001b[0;34m**\u001b[0m\u001b[0mkwargs\u001b[0m\u001b[0;34m)\u001b[0m\u001b[0;34m\u001b[0m\u001b[0;34m\u001b[0m\u001b[0m\n\u001b[0m\u001b[1;32m    797\u001b[0m         \u001b[0;32mif\u001b[0m \u001b[0mstandardized\u001b[0m\u001b[0;34m.\u001b[0m\u001b[0mhasRecords\u001b[0m\u001b[0;34m(\u001b[0m\u001b[0;34m)\u001b[0m\u001b[0;34m:\u001b[0m\u001b[0;34m\u001b[0m\u001b[0;34m\u001b[0m\u001b[0m\n\u001b[1;32m    798\u001b[0m             \u001b[0;32mreturn\u001b[0m \u001b[0mstandardized\u001b[0m\u001b[0;34m\u001b[0m\u001b[0;34m\u001b[0m\u001b[0m\n",
      "\u001b[0;32m~/LSST/src/daf_butler/python/lsst/daf/butler/core/dimensions/coordinate.py\u001b[0m in \u001b[0;36mstandardize\u001b[0;34m(mapping, graph, universe, **kwargs)\u001b[0m\n\u001b[1;32m    205\u001b[0m                 \u001b[0mvalues\u001b[0m \u001b[0;34m=\u001b[0m \u001b[0mtuple\u001b[0m\u001b[0;34m(\u001b[0m\u001b[0md\u001b[0m\u001b[0;34m[\u001b[0m\u001b[0mname\u001b[0m\u001b[0;34m]\u001b[0m \u001b[0;32mfor\u001b[0m \u001b[0mname\u001b[0m \u001b[0;32min\u001b[0m \u001b[0mgraph\u001b[0m\u001b[0;34m.\u001b[0m\u001b[0mrequired\u001b[0m\u001b[0;34m.\u001b[0m\u001b[0mnames\u001b[0m\u001b[0;34m)\u001b[0m\u001b[0;34m\u001b[0m\u001b[0;34m\u001b[0m\u001b[0m\n\u001b[1;32m    206\u001b[0m             \u001b[0;32mexcept\u001b[0m \u001b[0mKeyError\u001b[0m \u001b[0;32mas\u001b[0m \u001b[0merr\u001b[0m\u001b[0;34m:\u001b[0m\u001b[0;34m\u001b[0m\u001b[0;34m\u001b[0m\u001b[0m\n\u001b[0;32m--> 207\u001b[0;31m                 \u001b[0;32mraise\u001b[0m \u001b[0mKeyError\u001b[0m\u001b[0;34m(\u001b[0m\u001b[0;34mf\"No value in data ID ({mapping}) for required dimension {err}.\"\u001b[0m\u001b[0;34m)\u001b[0m \u001b[0;32mfrom\u001b[0m \u001b[0merr\u001b[0m\u001b[0;34m\u001b[0m\u001b[0;34m\u001b[0m\u001b[0m\n\u001b[0m\u001b[1;32m    208\u001b[0m         \u001b[0;31m# Some backends cannot handle numpy.int64 type which is a subclass of\u001b[0m\u001b[0;34m\u001b[0m\u001b[0;34m\u001b[0m\u001b[0;34m\u001b[0m\u001b[0m\n\u001b[1;32m    209\u001b[0m         \u001b[0;31m# numbers.Integral; convert that to int.\u001b[0m\u001b[0;34m\u001b[0m\u001b[0;34m\u001b[0m\u001b[0;34m\u001b[0m\u001b[0m\n",
      "\u001b[0;31mKeyError\u001b[0m: \"No value in data ID (None) for required dimension 'instrument'.\""
     ]
    }
   ],
   "source": [
    "for dataId in butler.registry.queryDimensions([\"visit\"], physical_filter=\"HSC-I\"):\n",
    "    print(dataId)"
   ]
  },
  {
   "cell_type": "markdown",
   "metadata": {},
   "source": [
    "You _can_ query on just `physical_filter` using a string expression..."
   ]
  },
  {
   "cell_type": "code",
   "execution_count": 81,
   "metadata": {
    "tags": []
   },
   "outputs": [
    {
     "output_type": "stream",
     "name": "stdout",
     "text": "{abstract_filter: i, instrument: HSC, physical_filter: HSC-I, visit_system: 0, visit: 903990}\n{abstract_filter: i, instrument: HSC, physical_filter: HSC-I, visit_system: 0, visit: 904010}\n{abstract_filter: i, instrument: HSC, physical_filter: HSC-I, visit_system: 0, visit: 904014}\n{abstract_filter: i, instrument: HSC, physical_filter: HSC-I, visit_system: 0, visit: 903988}\n{abstract_filter: i, instrument: HSC, physical_filter: HSC-I, visit_system: 0, visit: 903986}\n"
    }
   ],
   "source": [
    "for dataId in butler.registry.queryDimensions([\"visit\"], where=\"physical_filter = 'HSC-I'\"):\n",
    "    print(dataId)"
   ]
  },
  {
   "cell_type": "markdown",
   "metadata": {},
   "source": [
    "...but this may not be what you want.  In a larger, more realistic repository, this will actually search over all instruments, and while our _convention_ of putting the instrument name in the physical filter string would still save us from getting results from those other instruments here, it might be less efficient, and variations on this case involving other dimensions might produce undesired results.  From that perspective, the requirement that any data ID passed be complete and self-consistent is a feature, not a bug, and we relax it in the string-based query system because it's intended to be much more flexible (and hence can't be as careful)."
   ]
  },
  {
   "cell_type": "markdown",
   "metadata": {},
   "source": [
    "Like `queryDatasets`, `queryDimensions` will automatically use spatial or temporal relationships, as well as implied dimension relationships:"
   ]
  },
  {
   "cell_type": "code",
   "execution_count": 82,
   "metadata": {
    "tags": []
   },
   "outputs": [
    {
     "output_type": "stream",
     "name": "stdout",
     "text": "{abstract_filter: i, instrument: HSC, physical_filter: HSC-I, visit_system: 0, visit: 903990}\n{abstract_filter: i, instrument: HSC, physical_filter: HSC-I, visit_system: 0, visit: 903990}\n{abstract_filter: i, instrument: HSC, physical_filter: HSC-I, visit_system: 0, visit: 904010}\n{abstract_filter: i, instrument: HSC, physical_filter: HSC-I, visit_system: 0, visit: 904010}\n{abstract_filter: i, instrument: HSC, physical_filter: HSC-I, visit_system: 0, visit: 904014}\n{abstract_filter: i, instrument: HSC, physical_filter: HSC-I, visit_system: 0, visit: 904014}\n{abstract_filter: i, instrument: HSC, physical_filter: HSC-I, visit_system: 0, visit: 903988}\n{abstract_filter: i, instrument: HSC, physical_filter: HSC-I, visit_system: 0, visit: 903988}\n{abstract_filter: i, instrument: HSC, physical_filter: HSC-I, visit_system: 0, visit: 903986}\n{abstract_filter: i, instrument: HSC, physical_filter: HSC-I, visit_system: 0, visit: 903986}\n"
    }
   ],
   "source": [
    "for dataId in butler.registry.queryDimensions([\"visit\"], dataId={\"skymap\": \"discrete/ci_hsc\", \"tract\": 0, \"patch\": 69, \"abstract_filter\": \"i\"}):\n",
    "    print(dataId)"
   ]
  },
  {
   "cell_type": "markdown",
   "metadata": {},
   "source": [
    "And while data IDs are not dependent on any dataset type or collection, you can query for the data IDs for which some set of datasets (all) exist in one or more collections.  For example, this query returns all detectors for which a `flat` dataset exists in the `HSC/calib` collection:"
   ]
  },
  {
   "cell_type": "code",
   "execution_count": 87,
   "metadata": {
    "tags": []
   },
   "outputs": [
    {
     "output_type": "execute_result",
     "data": {
      "text/plain": "{{abstract_filter: i, instrument: HSC, calibration_label: gen2/flat_2013-11-03_000_HSC-I, detector: 0, physical_filter: HSC-I},\n {abstract_filter: i, instrument: HSC, calibration_label: gen2/flat_2013-11-03_001_HSC-I, detector: 1, physical_filter: HSC-I},\n {abstract_filter: i, instrument: HSC, calibration_label: gen2/flat_2013-11-03_004_HSC-I, detector: 4, physical_filter: HSC-I},\n {abstract_filter: i, instrument: HSC, calibration_label: gen2/flat_2013-11-03_005_HSC-I, detector: 5, physical_filter: HSC-I},\n {abstract_filter: i, instrument: HSC, calibration_label: gen2/flat_2013-11-03_006_HSC-I, detector: 6, physical_filter: HSC-I},\n {abstract_filter: i, instrument: HSC, calibration_label: gen2/flat_2013-11-03_010_HSC-I, detector: 10, physical_filter: HSC-I},\n {abstract_filter: i, instrument: HSC, calibration_label: gen2/flat_2013-11-03_011_HSC-I, detector: 11, physical_filter: HSC-I},\n {abstract_filter: i, instrument: HSC, calibration_label: gen2/flat_2013-11-03_012_HSC-I, detector: 12, physical_filter: HSC-I},\n {abstract_filter: i, instrument: HSC, calibration_label: gen2/flat_2013-11-03_016_HSC-I, detector: 16, physical_filter: HSC-I},\n {abstract_filter: i, instrument: HSC, calibration_label: gen2/flat_2013-11-03_017_HSC-I, detector: 17, physical_filter: HSC-I},\n {abstract_filter: i, instrument: HSC, calibration_label: gen2/flat_2013-11-03_018_HSC-I, detector: 18, physical_filter: HSC-I},\n {abstract_filter: i, instrument: HSC, calibration_label: gen2/flat_2013-11-03_022_HSC-I, detector: 22, physical_filter: HSC-I},\n {abstract_filter: i, instrument: HSC, calibration_label: gen2/flat_2013-11-03_023_HSC-I, detector: 23, physical_filter: HSC-I},\n {abstract_filter: i, instrument: HSC, calibration_label: gen2/flat_2013-11-03_024_HSC-I, detector: 24, physical_filter: HSC-I},\n {abstract_filter: i, instrument: HSC, calibration_label: gen2/flat_2013-11-03_025_HSC-I, detector: 25, physical_filter: HSC-I},\n {abstract_filter: i, instrument: HSC, calibration_label: gen2/flat_2013-11-03_100_HSC-I, detector: 100, physical_filter: HSC-I},\n {abstract_filter: r, instrument: HSC, calibration_label: gen2/flat_2013-06-17_000_HSC-R, detector: 0, physical_filter: HSC-R},\n {abstract_filter: r, instrument: HSC, calibration_label: gen2/flat_2013-06-17_001_HSC-R, detector: 1, physical_filter: HSC-R},\n {abstract_filter: r, instrument: HSC, calibration_label: gen2/flat_2013-06-17_004_HSC-R, detector: 4, physical_filter: HSC-R},\n {abstract_filter: r, instrument: HSC, calibration_label: gen2/flat_2013-06-17_005_HSC-R, detector: 5, physical_filter: HSC-R},\n {abstract_filter: r, instrument: HSC, calibration_label: gen2/flat_2013-06-17_006_HSC-R, detector: 6, physical_filter: HSC-R},\n {abstract_filter: r, instrument: HSC, calibration_label: gen2/flat_2013-06-17_010_HSC-R, detector: 10, physical_filter: HSC-R},\n {abstract_filter: r, instrument: HSC, calibration_label: gen2/flat_2013-06-17_011_HSC-R, detector: 11, physical_filter: HSC-R},\n {abstract_filter: r, instrument: HSC, calibration_label: gen2/flat_2013-06-17_012_HSC-R, detector: 12, physical_filter: HSC-R},\n {abstract_filter: r, instrument: HSC, calibration_label: gen2/flat_2013-06-17_016_HSC-R, detector: 16, physical_filter: HSC-R},\n {abstract_filter: r, instrument: HSC, calibration_label: gen2/flat_2013-06-17_017_HSC-R, detector: 17, physical_filter: HSC-R},\n {abstract_filter: r, instrument: HSC, calibration_label: gen2/flat_2013-06-17_018_HSC-R, detector: 18, physical_filter: HSC-R},\n {abstract_filter: r, instrument: HSC, calibration_label: gen2/flat_2013-06-17_022_HSC-R, detector: 22, physical_filter: HSC-R},\n {abstract_filter: r, instrument: HSC, calibration_label: gen2/flat_2013-06-17_023_HSC-R, detector: 23, physical_filter: HSC-R},\n {abstract_filter: r, instrument: HSC, calibration_label: gen2/flat_2013-06-17_024_HSC-R, detector: 24, physical_filter: HSC-R},\n {abstract_filter: r, instrument: HSC, calibration_label: gen2/flat_2013-06-17_025_HSC-R, detector: 25, physical_filter: HSC-R},\n {abstract_filter: r, instrument: HSC, calibration_label: gen2/flat_2013-06-17_100_HSC-R, detector: 100, physical_filter: HSC-R}}"
     },
     "metadata": {},
     "execution_count": 87
    }
   ],
   "source": [
    "set(butler.registry.queryDimensions([\"detector\"], datasets=\"flat\", collections=\"HSC/calib\"))"
   ]
  },
  {
   "cell_type": "markdown",
   "metadata": {},
   "source": [
    "Well.  That worked, but it actually gave us much more than we asked for, which was data IDs with just `detector` (and `instrument`, since that's a required dependency).  This is a bug, and I created a ticket for it ([DM-22176](https://jira.lsstcorp.org/browse/DM-22176)) the first time I gave (an earlier version of this tutorial) a few months ago.  Fixing it just hasn't been a priority.\n",
    "\n",
    "Not a bad thing to close on a pretty representative example of the fact that this is all still under construction, even if it can already do a lot."
   ]
  },
  {
   "cell_type": "markdown",
   "metadata": {},
   "source": [
    "## Appendix: what about `put`?\n",
    "\n",
    "It's just like `get`, but you pass the thing you want to write as the first argument, and you can't use `parameters`.  You can use `DatasetRef`.  There is no return value.  You can find more documentation [here](https://pipelines.lsst.io/py-api/lsst.daf.butler.Butler.html#lsst.daf.butler.Butler.put).\n",
    "\n",
    "That won't work here (by design; there's a good chance you're using a shared example repo we don't want to break), because the `Butler` we constructed is read-only.  If you want a read-write `Butler`, construct the `Butler` with a `run` argument instead of a `collections` argument, or pass `writeable=True`.  A \"run\" is a special kind of collection; the [daf_butler docs](https://pipelines.lsst.io/v/weekly/modules/lsst.daf.butler/organizing.html#collections) have a more complete description of the types of collections.  The `shared/ci_hsc_output` collection we've been using is actually the name of a run-type collection, but passing it as a regular collection tells the `Butler` that we don't plan to write anything to it."
   ]
  }
 ],
 "metadata": {
  "kernelspec": {
   "display_name": "Python 3.7.6 64-bit ('lsst-scipipe-1a1d771': conda)",
   "language": "python",
   "name": "python_defaultSpec_1595391284564"
  },
  "language_info": {
   "codemirror_mode": {
    "name": "ipython",
    "version": 3
   },
   "file_extension": ".py",
   "mimetype": "text/x-python",
   "name": "python",
   "nbconvert_exporter": "python",
   "pygments_lexer": "ipython3",
   "version": "3.7.6-final"
  }
 },
 "nbformat": 4,
 "nbformat_minor": 4
}